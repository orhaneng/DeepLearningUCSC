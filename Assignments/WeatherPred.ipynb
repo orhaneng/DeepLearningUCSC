{
 "cells": [
  {
   "cell_type": "code",
   "execution_count": 0,
   "metadata": {
    "colab_type": "code",
    "id": "bPi11oqa4klT",
    "outputId": "3edd6e1b-3dd6-45c2-b527-c197b380ac0d",
    "colab": {
     "base_uri": "https://localhost:8080/",
     "height": 34.0
    }
   },
   "outputs": [
    {
     "name": "stdout",
     "output_type": "stream",
     "text": [
      "-This section done-\n"
     ]
    }
   ],
   "source": [
    "#import libraries\n",
    "%matplotlib inline\n",
    "import matplotlib.pyplot as plt\n",
    "import numpy as np\n",
    "from sklearn.preprocessing import MinMaxScaler\n",
    "from tensorflow.python.keras.models import Sequential\n",
    "print ('-This section done-')\n",
    "\n",
    "import sys\n",
    "sys.path.append(\"/Users/omerorhan/Desktop/UCSC/Deep Learning/DeepLearningUCSC/venv/homework/Assignments/\") \n"
   ]
  },
  {
   "cell_type": "code",
   "execution_count": 0,
   "metadata": {
    "colab_type": "code",
    "id": "u5pQ6mXH7td1",
    "outputId": "46f42f26-cf7a-4f95-f273-360849dec6e1",
    "colab": {
     "base_uri": "https://localhost:8080/",
     "height": 680.0
    }
   },
   "outputs": [
    {
     "name": "stdout",
     "output_type": "stream",
     "text": [
      "- Download progress: 100.0%\n",
      "Download finished. Extracting files.\n",
      "Done.\n",
      "['Aalborg', 'Aarhus', 'Esbjerg', 'Odense', 'Roskilde']\n",
      "                      Aalborg                                    Aarhus  \\\n",
      "                         Temp     Pressure WindSpeed     WindDir   Temp   \n",
      "DateTime                                                                  \n",
      "1980-03-01 11:00:00  5.000000  1007.766667      10.2  280.000000    5.0   \n",
      "1980-03-01 12:00:00  5.000000  1008.000000      10.3  290.000000    5.0   \n",
      "1980-03-01 13:00:00  5.000000  1008.066667       9.7  290.000000    5.0   \n",
      "1980-03-01 14:00:00  4.333333  1008.133333      11.1  283.333333    5.0   \n",
      "1980-03-01 15:00:00  4.000000  1008.200000      11.3  280.000000    5.0   \n",
      "\n",
      "                                                     Esbjerg           \\\n",
      "                        Pressure WindSpeed WindDir      Temp Pressure   \n",
      "DateTime                                                                \n",
      "1980-03-01 11:00:00  1008.300000      15.4   290.0  6.083333      NaN   \n",
      "1980-03-01 12:00:00  1008.600000      13.4   280.0  6.583333      NaN   \n",
      "1980-03-01 13:00:00  1008.433333      15.4   280.0  6.888889      NaN   \n",
      "1980-03-01 14:00:00  1008.266667      14.9   300.0  6.222222      NaN   \n",
      "1980-03-01 15:00:00  1008.100000      17.0   290.0  5.555556      NaN   \n",
      "\n",
      "                                              Odense                          \\\n",
      "                     WindSpeed     WindDir      Temp     Pressure  WindSpeed   \n",
      "DateTime                                                                       \n",
      "1980-03-01 11:00:00  12.383333  310.000000  6.142857  1011.066667  12.585714   \n",
      "1980-03-01 12:00:00  12.883333  310.000000  7.000000  1011.200000  11.300000   \n",
      "1980-03-01 13:00:00  13.244444  309.444444  7.000000  1011.300000  12.118182   \n",
      "1980-03-01 14:00:00  12.911111  306.111111  6.857143  1011.400000  12.742857   \n",
      "1980-03-01 15:00:00  12.577778  302.777778  6.000000  1011.500000  12.400000   \n",
      "\n",
      "                             Roskilde                                  \n",
      "                    WindDir      Temp Pressure  WindSpeed     WindDir  \n",
      "DateTime                                                               \n",
      "1980-03-01 11:00:00   290.0  5.000000      NaN  11.466667  280.000000  \n",
      "1980-03-01 12:00:00   290.0  5.000000      NaN  12.466667  280.000000  \n",
      "1980-03-01 13:00:00   290.0  5.166667      NaN  13.133333  278.333333  \n",
      "1980-03-01 14:00:00   290.0  5.833333      NaN  12.300000  270.000000  \n",
      "1980-03-01 15:00:00   290.0  4.833333      NaN  12.300000  270.000000  \n"
     ]
    }
   ],
   "source": [
    "#getting data\n",
    "import weather\n",
    "weather.maybe_download_and_extract()\n",
    "cities = weather.cities\n",
    "print(cities)\n",
    "#%%time\n",
    "df = weather.load_resampled_data()\n",
    "print(df.head())"
   ]
  },
  {
   "cell_type": "code",
   "execution_count": 0,
   "metadata": {
    "colab_type": "code",
    "id": "Tf2JMq-5AonJ",
    "outputId": "5e03bc75-a310-4565-8e56-3c21faee3765",
    "colab": {
     "base_uri": "https://localhost:8080/",
     "height": 296.0
    }
   },
   "outputs": [
    {
     "name": "stdout",
     "output_type": "stream",
     "text": [
      "-This section done-\n"
     ]
    },
    {
     "data": {
      "image/png": "[encoded data removed]",
      "text/plain": [
       "<Figure size 432x288 with 1 Axes>"
      ]
     },
     "metadata": {
      "tags": []
     },
     "output_type": "display_data"
    }
   ],
   "source": [
    "df['Esbjerg']['Pressure'].plot()\n",
    "df['Roskilde']['Pressure'].plot()\n",
    "df.values.shape\n",
    "df.head(1)\n",
    "\n",
    "df.drop(('Esbjerg', 'Pressure'), axis=1, inplace=True)\n",
    "df.drop(('Roskilde', 'Pressure'), axis=1, inplace=True)\n",
    "print ('-This section done-')"
   ]
  },
  {
   "cell_type": "code",
   "execution_count": 0,
   "metadata": {
    "colab_type": "code",
    "id": "uePjZtzYAvah",
    "colab": {}
   },
   "outputs": [],
   "source": [
    "df['Various', 'Day'] = df.index.dayofyear\n",
    "df['Various', 'Hour'] = df.index.hour"
   ]
  },
  {
   "cell_type": "code",
   "execution_count": 0,
   "metadata": {
    "colab_type": "code",
    "id": "Cwzo26ZYA-8e",
    "outputId": "e7d13460-d933-4405-eea8-56fd61f3108c",
    "colab": {
     "base_uri": "https://localhost:8080/",
     "height": 119.0
    }
   },
   "outputs": [
    {
     "name": "stdout",
     "output_type": "stream",
     "text": [
      "X_Shape::::\n",
      "<class 'pandas.core.frame.DataFrame'>\n",
      "Shape: (333109, 20)\n",
      "# of input data  333109\n",
      "# of Training data:  333109\n",
      "20\n"
     ]
    }
   ],
   "source": [
    "# Converting Data Frames to Numpy array::::\n",
    "x_data = df\n",
    "print(\"X_Shape::::\")\n",
    "print(type(x_data))\n",
    "print(\"Shape:\", x_data.shape)\n",
    "\n",
    "num_data = len(x_data)\n",
    "print(\"# of input data \",num_data)\n",
    "train_split = 1\n",
    "num_train = int(train_split * num_data)\n",
    "print(\"# of Training data: \",num_train)\n",
    "x_train = x_data[0:num_train]\n",
    "num_x_signals = x_data.shape[1]\n",
    "print(num_x_signals)"
   ]
  },
  {
   "cell_type": "code",
   "execution_count": 0,
   "metadata": {
    "colab_type": "code",
    "id": "iET9eDrwBHd7",
    "outputId": "3742d90c-0ef8-4d58-9d7e-7842a96c285a",
    "colab": {
     "base_uri": "https://localhost:8080/",
     "height": 122.0
    }
   },
   "outputs": [
    {
     "name": "stdout",
     "output_type": "stream",
     "text": [
      "Min: 0.0\n",
      "Max: 1.0000000000000002\n",
      "(333109, 20)\n"
     ]
    },
    {
     "name": "stderr",
     "output_type": "stream",
     "text": [
      "/usr/local/lib/python3.6/dist-packages/sklearn/preprocessing/data.py:334: DataConversionWarning: Data with input dtype int64, float64 were all converted to float64 by MinMaxScaler.\n",
      "  return self.partial_fit(X, y)\n"
     ]
    }
   ],
   "source": [
    "# Scaling data\n",
    "#The neural network works best on values roughly between -1 and 1, so we need to scale the data before it is being input to the neural network. We can use scikit-learn for this.\n",
    "x_scaler = MinMaxScaler()\n",
    "x_train_scaled = x_scaler.fit_transform(x_train)\n",
    "print(\"Min:\", np.min(x_train_scaled))\n",
    "print(\"Max:\", np.max(x_train_scaled))\n",
    "#Data Generator\n",
    "print(x_train_scaled.shape)\n"
   ]
  },
  {
   "cell_type": "code",
   "execution_count": 0,
   "metadata": {
    "colab_type": "code",
    "id": "Hc8wzetIBmZw",
    "colab": {}
   },
   "outputs": [],
   "source": [
    "lookback = 2352 # was 1440. 24 hours per day into 14 days = 168*14 = 2352\n",
    "step = 6 # Original was 6\n",
    "delay = 144 # We will predict 1 days in future. hence 24*6 = 144\n",
    "batch_size = 128\n",
    "#data—The original array of floating-point data\n",
    "#lookback—How many timesteps back the input data should go.\n",
    "#delay—How many timesteps in the future the target should be.\n",
    "#min_index and max_index—Indices in the data array that delimit which time-\n",
    "#steps to draw from. This is useful for keeping a segment of the data for valida-\n",
    "#tion and another for testing.\n",
    "#shuffle—Whether to shuffle the samples or draw them in chronological order.\n",
    "#batch_size—The number of samples per batch.\n",
    "#step—The period, in timesteps, at which you sample data. set it to 1 in\n",
    "#order to draw one data point every hour.\n",
    "def generator(data, lookback, delay, min_index, max_index,\n",
    "              shuffle=False, batch_size=1, step=6):\n",
    "    if max_index is None:\n",
    "        max_index = len(data) - delay - 1\n",
    "    i = min_index + lookback\n",
    "    while 1:\n",
    "        if shuffle:\n",
    "            rows = np.random.randint(\n",
    "                min_index + lookback, max_index, size=batch_size)\n",
    "        else:\n",
    "            if i + batch_size >= max_index:\n",
    "                i = min_index + lookback\n",
    "            rows = np.arange(i, min(i + batch_size, max_index))\n",
    "            i += len(rows)\n",
    "        samples = np.zeros((len(rows),\n",
    "                           lookback // step,\n",
    "                           data.shape[-1])) # Size = Batchsize,lookback,20\n",
    "        targets = np.zeros((len(rows),)) #Size typically Batchsize\n",
    "        for j, row in enumerate(rows):\n",
    "            indices = range(rows[j] - lookback, rows[j], step)\n",
    "            samples[j] = data[indices]\n",
    "            targets[j] = data[rows[j] + delay][0]\n",
    "        #print(np.shape(samples))\n",
    "        #print(np.shape(targets))\n",
    "        yield samples, targets\n",
    "\n",
    "        \n",
    "train_gen = generator(x_train_scaled,\n",
    "                      lookback=lookback,\n",
    "                      delay=delay,\n",
    "                      min_index=0,\n",
    "                      max_index=20000,\n",
    "                      shuffle=True,\n",
    "                      step=step,\n",
    "                      batch_size=batch_size)\n",
    "val_gen = generator(x_train_scaled,\n",
    "                    lookback=lookback,\n",
    "                    delay=delay,\n",
    "                    min_index=20001,\n",
    "                    max_index=30000,\n",
    "                    step=step,\n",
    "                    batch_size=batch_size)\n",
    "\n",
    "test_gen = generator(x_train_scaled,\n",
    "                    lookback=lookback,\n",
    "                    delay=delay,\n",
    "                    min_index=30001,\n",
    "                    max_index=40000,\n",
    "                    step=step,\n",
    "                    batch_size=1)\n",
    "val_steps = (30000 - 20001 - lookback)\n",
    "\n"
   ]
  },
  {
   "cell_type": "code",
   "execution_count": 0,
   "metadata": {
    "colab_type": "code",
    "id": "D9c9EcElBtnI",
    "colab": {}
   },
   "outputs": [],
   "source": [
    "#First model with GRU\n",
    "dropout = 0.2\n",
    "from keras.models import Sequential\n",
    "from keras import layers\n",
    "from keras.optimizers import RMSprop\n",
    "model = Sequential()\n",
    "model.add(layers.GRU(32,dropout=0.2,\n",
    "                             recurrent_dropout=0.2, input_shape=(None, x_train_scaled.shape[-1])))\n",
    "model.add(layers.Dense(1))\n",
    "model.compile(optimizer=RMSprop(), loss='mae')\n",
    "history = model.fit_generator(train_gen,\n",
    "                              steps_per_epoch=100,\n",
    "                              epochs=10,\n",
    "                              validation_data=val_gen,\n",
    "                              validation_steps=val_steps)\n"
   ]
  },
  {
   "cell_type": "code",
   "execution_count": 0,
   "metadata": {
    "id": "DsES9yGjVC-K",
    "colab_type": "code",
    "colab": {}
   },
   "outputs": [],
   "source": [
    "\n",
    "import keras\n",
    "keras.models.save_model(model,\"model_GRU.h5\")\n",
    "model = keras.models.load_model(\"model_GRU.h5\")  # Load Keras model we learned using KerasPractice notebook\n",
    "#prediction = model.predict(test_gen)  # Run the actual classification\n",
    "\n",
    "for i,j in test_gen:\n",
    "  print(i.shape)\n",
    "  #print(j.shape)\n",
    "  \n",
    "  prediction = model.predict(i)\n",
    "  print(i[0,0,:])\n",
    "  print(prediction)\n",
    "  print(j[0])\n",
    "  break"
   ]
  },
  {
   "cell_type": "code",
   "execution_count": 0,
   "metadata": {
    "id": "j2JPjwIduOIG",
    "colab_type": "code",
    "colab": {}
   },
   "outputs": [],
   "source": [
    "\n",
    "#Second model with LSTM\n",
    "from keras.models import Sequential\n",
    "from keras import layers\n",
    "from keras.optimizers import RMSprop\n",
    "from keras.layers import Dense\n",
    "from keras.layers import LSTM\n",
    "model = Sequential()\n",
    "model.add(LSTM(16,dropout=0,\n",
    "                             recurrent_dropout=0, input_shape=(None, x_train_scaled.shape[-1])))\n",
    "model.add(layers.Dense(1))\n",
    "model.compile(optimizer=RMSprop(), loss='mae')\n",
    "history = model.fit_generator(train_gen,\n",
    "                              steps_per_epoch=100,\n",
    "                              epochs=10,\n",
    "                              validation_data=val_gen,\n",
    "                              validation_steps=val_steps)\n",
    "\n"
   ]
  },
  {
   "cell_type": "code",
   "execution_count": 0,
   "metadata": {
    "id": "HjvOyWDPaaOC",
    "colab_type": "code",
    "colab": {}
   },
   "outputs": [],
   "source": [
    "#Third model with Conventional NN\n",
    "\n",
    "import keras\n",
    "from keras.layers import Dropout\n",
    "from keras.callbacks import EarlyStopping\n",
    "from keras.models import Sequential \n",
    "from keras import layers\n",
    "from keras.optimizers import RMSprop\n",
    "early_stop = EarlyStopping(patience = 2, mode ='max')\n",
    "model = Sequential()\n",
    "model.add(layers.Flatten(input_shape=(lookback // step, x_train_scaled.shape[-1])))\n",
    "model.add(Dropout(0.2))\n",
    "model.add(layers.Dense(32, activation='relu'))\n",
    "model.add(layers.Dense(1))\n",
    "model.compile(optimizer=RMSprop(), loss='mae') \n",
    "history = model.fit_generator(train_gen,\n",
    "steps_per_epoch=500, epochs=10, validation_data=val_gen, validation_steps=val_steps, callbacks = [early_stop])\n",
    "keras.models.save_model(model,\"model.h5\")"
   ]
  },
  {
   "cell_type": "code",
   "execution_count": 0,
   "metadata": {
    "colab_type": "code",
    "id": "RAaQTErND_6q",
    "outputId": "9c44a096-d680-41cc-9a5b-db86905e7d22",
    "colab": {
     "base_uri": "https://localhost:8080/",
     "height": 280.0
    }
   },
   "outputs": [
    {
     "data": {
      "image/png": "[encoded data removed]",
      "text/plain": [
       "<Figure size 432x288 with 1 Axes>"
      ]
     },
     "metadata": {
      "tags": []
     },
     "output_type": "display_data"
    }
   ],
   "source": [
    "import matplotlib.pyplot as plt\n",
    "loss = history.history['loss']\n",
    "val_loss = history.history['val_loss']\n",
    "epochs = range(1, len(loss) + 1)\n",
    "plt.figure()\n",
    "plt.plot(epochs, loss, 'bo', label='Training loss')\n",
    "plt.plot(epochs, val_loss, 'b', label='Validation loss')\n",
    "plt.title('Training and validation loss')\n",
    "plt.legend()\n",
    "plt.show()\n"
   ]
  }
 ],
 "metadata": {
  "colab": {
   "name": "AdityawithOmer.ipynb",
   "version": "0.3.2",
   "provenance": []
  },
  "kernelspec": {
   "display_name": "Python 3",
   "language": "python",
   "name": "python3"
  },
  "accelerator": "GPU"
 },
 "nbformat": 4,
 "nbformat_minor": 0
}
