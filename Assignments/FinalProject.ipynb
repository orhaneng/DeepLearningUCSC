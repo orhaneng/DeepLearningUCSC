{
 "cells": [
  {
   "cell_type": "code",
   "execution_count": 26,
   "metadata": {
    "collapsed": true
   },
   "outputs": [
    {
     "name": "stdout",
     "output_type": "stream",
     "text": [
      "dimensions<class 'netCDF4._netCDF4.Dimension'>: name = 'lon', size = 144\n\ndimensions<class 'netCDF4._netCDF4.Dimension'>: name = 'lat', size = 73\n\ndimensions<class 'netCDF4._netCDF4.Dimension'>: name = 'level', size = 17\n\ndimensions<class 'netCDF4._netCDF4.Dimension'> (unlimited): name = 'time', size = 1464\n\n"
     ]
    }
   ],
   "source": [
    "from netCDF4 import Dataset\n",
    "\n",
    "rootgrp = Dataset(\"/Users/omerorhan/Downloads/air.1948.nc\", \"r\", format=\"NETCDF4\")\n",
    "\n",
    "dims = (rootgrp.dimensions)\n",
    "\n",
    "ndims = len(dims)\n",
    "\n",
    "for key in dims:\n",
    "    print(\"dimensions\"+str(dims[key]))\n",
    "\n",
    "dims = (rootgrp.dimensions)\n",
    "\n",
    "\n"
   ]
  }
 ],
 "metadata": {
  "kernelspec": {
   "display_name": "Python 2",
   "language": "python",
   "name": "python2"
  },
  "language_info": {
   "codemirror_mode": {
    "name": "ipython",
    "version": 2
   },
   "file_extension": ".py",
   "mimetype": "text/x-python",
   "name": "python",
   "nbconvert_exporter": "python",
   "pygments_lexer": "ipython2",
   "version": "2.7.6"
  }
 },
 "nbformat": 4,
 "nbformat_minor": 0
}
