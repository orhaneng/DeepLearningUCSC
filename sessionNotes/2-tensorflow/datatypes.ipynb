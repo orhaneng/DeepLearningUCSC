{
 "cells": [
  {
   "cell_type": "markdown",
   "metadata": {},
   "source": [
    "# Datatypes"
   ]
  },
  {
   "cell_type": "code",
   "execution_count": 3,
   "metadata": {},
   "outputs": [],
   "source": [
    "import tensorflow as tf\n",
    "import numpy as np\n",
    "import os\n",
    "os.chdir(\"/Users/omerorhan/Desktop/UCSC/Deep Learning/DeepLearningUCSC/venv/homework/sessionNotes/2-tensorflow\")\n"
   ]
  },
  {
   "cell_type": "code",
   "execution_count": 4,
   "metadata": {},
   "outputs": [
    {
     "name": "stdout",
     "output_type": "stream",
     "text": [
      "Tensor(\"Const:0\", shape=(), dtype=int32)\n"
     ]
    }
   ],
   "source": [
    "a  = tf.constant(2)\n",
    "print(a) # shape is ()"
   ]
  },
  {
   "cell_type": "code",
   "execution_count": 5,
   "metadata": {},
   "outputs": [
    {
     "name": "stdout",
     "output_type": "stream",
     "text": [
      "Tensor(\"Const_1:0\", shape=(3,), dtype=int64)\n"
     ]
    }
   ],
   "source": [
    "a  = tf.constant(np.array([1,2,3])) # can supply a Python object or numpy object to a constant\n",
    "print(a) # shape is ()"
   ]
  },
  {
   "cell_type": "code",
   "execution_count": 6,
   "metadata": {},
   "outputs": [
    {
     "name": "stdout",
     "output_type": "stream",
     "text": [
      "Tensor(\"myconst:0\", shape=(3,), dtype=int32)\n"
     ]
    }
   ],
   "source": [
    "a = tf.constant([1, 2, 3], name=\"myconst\")\n",
    "print(a) # shape is (3, )"
   ]
  },
  {
   "cell_type": "code",
   "execution_count": 8,
   "metadata": {},
   "outputs": [
    {
     "name": "stdout",
     "output_type": "stream",
     "text": [
      "[[ 0.  0.  0.]\n [ 0.  0.  0.]\n [ 0.  0.  0.]]\nTensor(\"zeros_1:0\", shape=(3, 3), dtype=float32)\n"
     ]
    }
   ],
   "source": [
    "a = np.zeros((3, 3)) # Create a 3x3 matrix filled with zero\n",
    "print(a)\n",
    "b = tf.zeros((3, 3)) # Create a 3x3 tensor filled with zero\n",
    "print(b)"
   ]
  },
  {
   "cell_type": "code",
   "execution_count": 9,
   "metadata": {},
   "outputs": [
    {
     "name": "stdout",
     "output_type": "stream",
     "text": [
      "[[ 1.  1.  1.]\n [ 1.  1.  1.]\n [ 1.  1.  1.]]\nTensor(\"ones:0\", shape=(3, 3), dtype=float32)\n"
     ]
    }
   ],
   "source": [
    "a = np.ones((3, 3)) # Create a 3x3 matrix filled with ones\n",
    "print(a)\n",
    "b = tf.ones((3, 3)) # Create a 3x3 tensor filled with ones\n",
    "print(b)"
   ]
  },
  {
   "cell_type": "code",
   "execution_count": 13,
   "metadata": {},
   "outputs": [
    {
     "name": "stdout",
     "output_type": "stream",
     "text": [
      "Tensor(\"Fill_3:0\", shape=(3, 3), dtype=int32)\n[[20 20 20]\n [20 20 20]\n [20 20 20]]\n"
     ]
    }
   ],
   "source": [
    "a = tf.fill((3, 3,), 20) # Fill a 3x3 matrix with 20s\n",
    "print(a) # The print does not show the values\n",
    "\n",
    "# To see the values in the matrix, we will start an \n",
    "# instance of the session and call the run method on it.  # with is context manager\n",
    "with tf.Session() as sess1:\n",
    "    print(sess1.run(a))"
   ]
  },
  {
   "cell_type": "code",
   "execution_count": 14,
   "metadata": {},
   "outputs": [
    {
     "name": "stdout",
     "output_type": "stream",
     "text": [
      "-2\n"
     ]
    }
   ],
   "source": [
    "'''\n",
    "In-class activity: Create a tensor, A with constant() with value -11. Create another tensor, B  with \n",
    "value 9. Add the tensors, and call it C. Then run C and print the output. \n",
    "'''\n",
    "\n",
    "A = tf.constant(-11)\n",
    "B = tf.constant(9)\n",
    "C = A+B\n",
    "\n",
    "with tf.Session() as sess1:\n",
    "    print(sess1.run(C))\n",
    "\n"
   ]
  },
  {
   "cell_type": "code",
   "execution_count": null,
   "metadata": {},
   "outputs": [],
   "source": []
  },
  {
   "cell_type": "code",
   "execution_count": 17,
   "metadata": {},
   "outputs": [
    {
     "name": "stdout",
     "output_type": "stream",
     "text": [
      "[17 18 20]\n"
     ]
    }
   ],
   "source": [
    "'''\n",
    "In-class activity: Create a tensor, D with constant() with values [7, 8, 10]. Create another tensor, \n",
    "E of size (3, ) using fill() that has value 10. Add the tensors, and call it F.\n",
    "Then run F and print the output. \n",
    "'''\n",
    "\n",
    "D = tf.constant([7, 8, 10])\n",
    "E = tf.fill((3,), 10)\n",
    "c = D+E\n",
    "\n",
    "with tf.Session() as sess1:\n",
    "    print(sess1.run(c))\n",
    "\n"
   ]
  },
  {
   "cell_type": "code",
   "execution_count": null,
   "metadata": {},
   "outputs": [],
   "source": []
  },
  {
   "cell_type": "code",
   "execution_count": 18,
   "metadata": {},
   "outputs": [
    {
     "name": "stdout",
     "output_type": "stream",
     "text": [
      "[  1.           1.47368421   1.94736842   2.42105263   2.89473684\n   3.36842105   3.84210526   4.31578947   4.78947368   5.26315789\n   5.73684211   6.21052632   6.68421053   7.15789474   7.63157895\n   8.10526316   8.57894737   9.05263158   9.52631579  10.        ]\nTensor(\"Const_7:0\", shape=(20,), dtype=float64)\n"
     ]
    }
   ],
   "source": [
    "# Create a linearly spaced 20 numbers from 1 to 10 \n",
    "# The three values are start, end, number of values. \n",
    "# The first two are float and the last value is an int.\n",
    "linval = np.linspace(1.0, 10.0, 20)\n",
    "print(linval) # This print statement prints the value stored\n",
    "a = tf.constant(linval) # Convert to a tensorflow tensor\n",
    "print(a) # This does not print the value stored"
   ]
  },
  {
   "cell_type": "code",
   "execution_count": 19,
   "metadata": {},
   "outputs": [
    {
     "name": "stdout",
     "output_type": "stream",
     "text": [
      "Tensor(\"LinSpace:0\", shape=(20,), dtype=float32)\n"
     ]
    }
   ],
   "source": [
    "# The three values are start, end, number of values. End value is included.\n",
    "# The first two are float and the last value is an int.\n",
    "\n",
    "# Directly create a tensor without using linspace as in the \n",
    "# previous example\n",
    "\n",
    "# If the first 2 values are int, tensorflow throws an error.\n",
    "a = tf.linspace(1.0, 10.0, 20)\n",
    "print(a)"
   ]
  },
  {
   "cell_type": "code",
   "execution_count": 20,
   "metadata": {},
   "outputs": [
    {
     "name": "stdout",
     "output_type": "stream",
     "text": [
      "Tensor(\"range:0\", shape=(18,), dtype=float32)\n[ 1.   1.5  2.   2.5  3.   3.5  4.   4.5  5.   5.5  6.   6.5  7.   7.5  8.\n  8.5  9.   9.5]\n"
     ]
    }
   ],
   "source": [
    "# Another mechanism to create linearly space numbers is to use range\n",
    "# linspace takes start, end and number of values while\n",
    "# range takes start, limit, delta. The limit is not included. \n",
    "a = tf.range(1, 10, 0.5)\n",
    "print(a)\n",
    "with tf.Session() as sess1:\n",
    "    print(sess1.run(a))"
   ]
  },
  {
   "cell_type": "code",
   "execution_count": 22,
   "metadata": {},
   "outputs": [
    {
     "name": "stdout",
     "output_type": "stream",
     "text": [
      "[[ 15.  18.]\n [ 63.  78.]]\n"
     ]
    }
   ],
   "source": [
    "ra = np.array([[1, 2],[7, 8]])\n",
    "a = tf.placeholder(tf.float32, shape=(2,2))\n",
    "b = tf.matmul(a, a)\n",
    "with tf.Session() as sess:\n",
    "    print(sess.run(b, feed_dict={a: ra}))\n",
    "    \n",
    "    #sess.run returns numpy array"
   ]
  },
  {
   "cell_type": "code",
   "execution_count": 23,
   "metadata": {},
   "outputs": [
    {
     "name": "stdout",
     "output_type": "stream",
     "text": [
      "[3 2 6]\n"
     ]
    }
   ],
   "source": [
    "W = tf.Variable(tf.constant([2, 3, 5], name=\"weights\"))\n",
    "biases = tf.Variable(tf.constant([1, -1, 1], name=\"biases\"))\n",
    "\n",
    "m = tf.add(W, biases)\n",
    "init_all_op = tf.global_variables_initializer()\n",
    "\n",
    "with tf.Session() as sess:\n",
    "    sess.run(init_all_op)   ##omer why didnot get another examples\n",
    "    print((sess.run(m)))\n",
    "    #print(type(sess.run(m)))"
   ]
  },
  {
   "cell_type": "code",
   "execution_count": 24,
   "metadata": {},
   "outputs": [
    {
     "name": "stdout",
     "output_type": "stream",
     "text": [
      "[3 2 6]\n[3 2 6]\n"
     ]
    }
   ],
   "source": [
    "W = tf.constant([2, 3, 5], name=\"weights\")\n",
    "biases = tf.constant([1, -1, 1], name=\"biases\")\n",
    "\n",
    "m1 = tf.add(W, biases)\n",
    "m2 = tf.add(W, biases)\n",
    "\n",
    "sess = tf.InteractiveSession()\n",
    "m1_out = m1.eval()\n",
    "m2_out = m2.eval()\n",
    "print(m1_out)\n",
    "print(m2_out)\n",
    "sess.close()"
   ]
  },
  {
   "cell_type": "code",
   "execution_count": 25,
   "metadata": {},
   "outputs": [
    {
     "name": "stdout",
     "output_type": "stream",
     "text": [
      "[[ 1.  0.]\n [ 0.  1.]]\n"
     ]
    }
   ],
   "source": [
    "'''\n",
    "In-class activity: Create a placeholder tensor, W1 of shape (2, 2). Create a numpy array I with \n",
    "values [1, 0], [0, 1]. Define another tensor M that computes W1*W1. Run M and feed I. Print M.\n",
    "'''\n",
    "\n",
    "W1 = tf.placeholder(tf.float32, shape = (2,2,))\n",
    "I = np.array([[1, 0], [0, 1]])\n",
    "M = W1*W1\n",
    "\n",
    "with tf.Session() as sess:\n",
    "    print(sess.run(M, feed_dict= {W1:I}))"
   ]
  },
  {
   "cell_type": "code",
   "execution_count": null,
   "metadata": {},
   "outputs": [],
   "source": []
  },
  {
   "cell_type": "code",
   "execution_count": 26,
   "metadata": {},
   "outputs": [
    {
     "name": "stdout",
     "output_type": "stream",
     "text": [
      "[ 6 10 14]\n"
     ]
    }
   ],
   "source": [
    "'''\n",
    "In-class activity: Create a tensor, v1 using Variable() with values [2, 4, 6]. \n",
    "Create another tensor, v2 using Variable() with values [4 6 8]. Define v3 as the sum of v1 and v2. \n",
    "initialize the variable values and then run and print v3.\n",
    "'''\n",
    "v1 = tf.Variable(tf.constant([2,4,6],name= \"weights\"))\n",
    "v2 = tf.Variable(tf.constant([4,6,8], name= \"biases\"))\n",
    "v3 = v1+v2\n",
    "\n",
    "init_all_op = tf.global_variables_initializer()\n",
    "with tf.Session() as sess:\n",
    "    sess.run(init_all_op)\n",
    "    print(sess.run(v3))"
   ]
  },
  {
   "cell_type": "code",
   "execution_count": null,
   "metadata": {},
   "outputs": [],
   "source": []
  },
  {
   "cell_type": "code",
   "execution_count": null,
   "metadata": {},
   "outputs": [],
   "source": []
  },
  {
   "cell_type": "code",
   "execution_count": null,
   "metadata": {},
   "outputs": [],
   "source": []
  },
  {
   "cell_type": "code",
   "execution_count": null,
   "metadata": {},
   "outputs": [],
   "source": []
  },
  {
   "cell_type": "code",
   "execution_count": null,
   "metadata": {},
   "outputs": [],
   "source": []
  }
 ],
 "metadata": {
  "anaconda-cloud": {},
  "kernel_info": {
   "name": "python3"
  },
  "kernelspec": {
   "display_name": "Python 3",
   "language": "python",
   "name": "python3"
  },
  "language_info": {
   "codemirror_mode": {
    "name": "ipython",
    "version": 3
   },
   "file_extension": ".py",
   "mimetype": "text/x-python",
   "name": "python",
   "nbconvert_exporter": "python",
   "pygments_lexer": "ipython3",
   "version": "3.5.2"
  },
  "nteract": {
   "version": "0.5.5"
  },
  "widgets": {
   "state": {},
   "version": "1.1.2"
  }
 },
 "nbformat": 4,
 "nbformat_minor": 1
}
