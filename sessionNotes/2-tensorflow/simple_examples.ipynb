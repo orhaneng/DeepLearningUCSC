{
 "cells": [
  {
   "cell_type": "markdown",
   "metadata": {},
   "source": [
    "# Simple examples"
   ]
  },
  {
   "cell_type": "code",
   "execution_count": 1,
   "metadata": {},
   "outputs": [
    {
     "name": "stderr",
     "output_type": "stream",
     "text": [
      "/anaconda3/envs/tf-cpu/lib/python3.5/site-packages/requests/__init__.py:91: RequestsDependencyWarning: urllib3 (1.24.1) or chardet (3.0.4) doesn't match a supported version!\n  RequestsDependencyWarning)\n"
     ]
    }
   ],
   "source": [
    "import tensorflow as tf\n",
    "import numpy as np"
   ]
  },
  {
   "cell_type": "code",
   "execution_count": 3,
   "metadata": {},
   "outputs": [
    {
     "name": "stdout",
     "output_type": "stream",
     "text": [
      "Tensor(\"random_uniform_2:0\", shape=(5,), dtype=int32) Tensor(\"random_uniform_3:0\", shape=(1,), dtype=int32) Tensor(\"concat_1:0\", shape=(6,), dtype=int32)\n[29 26 43 49 29 21] <class 'numpy.ndarray'>\n"
     ]
    }
   ],
   "source": [
    "# generate random values \n",
    "# build powerball lottery number generator\n",
    "# first number is between [1, 59]\n",
    "# last number is between [1, 35]\n",
    "# maxval is inclusive\n",
    "mainno = tf.random_uniform(shape=(5, ), minval=1, maxval=59, dtype=tf.int32)\n",
    "lastno = tf.random_uniform((1, ), minval=1, maxval=35, dtype=tf.int32)\n",
    "# concatenate the two tensors along dimension 0\n",
    "powerballno = tf.concat([mainno, lastno], 0)\n",
    "# In the print statement, you will notice that all these variables\n",
    "# are Tensor objects and not the value themselves\n",
    "print(mainno, lastno, powerballno)\n",
    "# Start a session, so that all these variables can be evaluated.\n",
    "with tf.Session() as sess1:\n",
    "    powerballval = sess1.run(powerballno)\n",
    "print(powerballval, type(powerballval))"
   ]
  },
  {
   "cell_type": "markdown",
   "metadata": {},
   "source": [
    "In the code above, the powerballno is evaluated and a set of 6 random values are generated. The output of the run() is a numpy array as seen in the output of the print function."
   ]
  },
  {
   "cell_type": "code",
   "execution_count": 4,
   "metadata": {},
   "outputs": [
    {
     "name": "stdout",
     "output_type": "stream",
     "text": [
      "[ 5 30 34 46 22]\n[17]\n[32 52  3 22 37  8]\n"
     ]
    }
   ],
   "source": [
    "# power ball number generator with more mysteries\n",
    "\n",
    "mainno = tf.random_uniform(shape=(5, ), minval=1, maxval=59, dtype=tf.int32)\n",
    "lastno = tf.random_uniform((1, ), minval=1, maxval=35, dtype=tf.int32)\n",
    "powerballno = tf.concat([mainno, lastno], 0)\n",
    "with tf.Session() as sess1:\n",
    "    print(sess1.run(mainno))\n",
    "    print(sess1.run(lastno))\n",
    "    print(sess1.run(powerballno))"
   ]
  },
  {
   "cell_type": "markdown",
   "metadata": {},
   "source": [
    "If you notice the output, the first run call evaluates the tensor mainno and returns a tensor of length 5 filled with random values. The secondcall returns a tensor of length 1 filled with a random value. \n",
    "\n",
    "You would imagine that the output of last run statement would contain the values of first run and the second run call. However, it is very different. The reason is in Tensorflow, the functions like tf.random_uniform, tf.concat etc. are evaluated only at the call to run(). So, when the last run is called, the tf.concat function is evaluated. The tf.concat function (or ops) is in turn built with two other ops calls namely the two tf.random_uniform ops used for mainno and lastno.   \n",
    "\n",
    "Thus, in the above code, mainno and lastno ops are called twice, once for the first and second run function calls and then again by the last run function call.\n",
    "\n",
    "If the above code is run multiple times, it will generate different patterns of random numbers. What if you want tensorflow to generate the same random pattern."
   ]
  },
  {
   "cell_type": "code",
   "execution_count": 5,
   "metadata": {},
   "outputs": [
    {
     "name": "stdout",
     "output_type": "stream",
     "text": [
      "[14 20 56 19 44 26]\n[14 20 56 19 44 26]\n"
     ]
    }
   ],
   "source": [
    "# power ball number generator with op-level seed\n",
    "mainno = tf.random_uniform(shape=(5, ), minval=1, maxval=59, \\\n",
    "                           dtype=tf.int32, seed=1)\n",
    "lastno = tf.random_uniform((1, ), minval=1, maxval=35, \\\n",
    "                           dtype=tf.int32, seed=1)\n",
    "powerballno = tf.concat([mainno, lastno], 0)\n",
    "with tf.Session() as sess1:\n",
    "    print(sess1.run(powerballno))\n",
    "    \n",
    "with tf.Session() as sess2:\n",
    "    print(sess2.run(powerballno))"
   ]
  },
  {
   "cell_type": "markdown",
   "metadata": {},
   "source": [
    "By specifying a constant seed, a random pattern of numbers are generated and at every run, the pattern will remain the same irrespective of the session. This is an example of op-level seed. This method is useful if you need to generate the same repeatable sequence for an op across sessions.\n",
    "\n",
    "If there are many operations, it will be inconvenient to provide seed for each one separately. You can instead choose to provide a graph level seed using tf.set_random_seed. This method is useful if you need to generate random numbers created by all ops be repeatable across sessions in the same graph execution."
   ]
  },
  {
   "cell_type": "code",
   "execution_count": 6,
   "metadata": {
    "scrolled": true
   },
   "outputs": [
    {
     "name": "stdout",
     "output_type": "stream",
     "text": [
      "[ 7 18  7 49 26 23]\n[ 7 18  7 49 26 23]\n"
     ]
    }
   ],
   "source": [
    "# Alternate seeding mechanism by seeding the graph\n",
    "tf.set_random_seed(3457)\n",
    "mainno = tf.random_uniform(shape=(5, ), minval=1, maxval=59, dtype=tf.int32)\n",
    "lastno = tf.random_uniform((1, ), minval=1, maxval=35, dtype=tf.int32)\n",
    "powerballno = tf.concat([mainno, lastno], 0)\n",
    "with tf.Session() as sess1:\n",
    "    print(sess1.run(powerballno))\n",
    "\n",
    "with tf.Session() as sess2:\n",
    "    print(sess2.run(powerballno))"
   ]
  },
  {
   "cell_type": "markdown",
   "metadata": {},
   "source": [
    "In the example above, the two sessions: sess1 and sess2 produced the same set of random numbers. However, with each run of the code, the number generated are different for every run. "
   ]
  },
  {
   "cell_type": "markdown",
   "metadata": {},
   "source": [
    "#### Obtain the value of pi using Gregory-Madhava-Leibiniz series\n",
    "Gregory-Madhava-Leibiniz series \n",
    "\n",
    "![Gregory-Madhava-Leibiniz series](gml.png)"
   ]
  },
  {
   "cell_type": "code",
   "execution_count": 7,
   "metadata": {},
   "outputs": [
    {
     "name": "stdout",
     "output_type": "stream",
     "text": [
      "(10000000,)\n"
     ]
    },
    {
     "name": "stdout",
     "output_type": "stream",
     "text": [
      "Tensor(\"Const:0\", shape=(10000000,), dtype=float64)\nTensor(\"Sum:0\", shape=(), dtype=float64)\n"
     ]
    },
    {
     "name": "stdout",
     "output_type": "stream",
     "text": [
      "3.14159258716\n"
     ]
    }
   ],
   "source": [
    "# find value of pi using tensorflow\n",
    "n = 10000000\n",
    "# Create an empty numpy array\n",
    "numerator_np = np.ones((n,), np.float64)\n",
    "# Change the alternate values to -1\n",
    "numerator_np[1::2] = -1.0\n",
    "print(numerator_np.shape)\n",
    "# Convert numpy array to tensor\n",
    "numerator = tf.constant(numerator_np)\n",
    "print(numerator)\n",
    "# Create denominator with values 1, 3, 5, ... up to 2n\n",
    "denominator = tf.linspace(1.0, 2.0*n, n)\n",
    "# Linspace is creating a 32-bit float. converting it to 64-bit.\n",
    "denominator = tf.cast(denominator, tf.float64)\n",
    "pival = tf.reduce_sum(tf.div(numerator, denominator))\n",
    "print(pival)\n",
    "sess = tf.InteractiveSession()\n",
    "# A tensor returned by Session.run or eval is a NumPy array.\n",
    "pival_out = pival.eval()\n",
    "sess.close()\n",
    "print(4.0*pival_out)"
   ]
  },
  {
   "cell_type": "code",
   "execution_count": 8,
   "metadata": {},
   "outputs": [
    {
     "name": "stdout",
     "output_type": "stream",
     "text": [
      "[  1.           3.11111116   5.22222233   7.33333349   9.44444466\n  11.55555534  13.66666698  15.77777863  17.88888931  20.        ]\n"
     ]
    }
   ],
   "source": [
    "n = 10\n",
    "numerator_np = np.ones((n,), np.float64)\n",
    "denominator = tf.linspace(1.0, 2.0*n, n)\n",
    "sess = tf.InteractiveSession()\n",
    "pival_out = denominator.eval()\n",
    "sess.close()\n",
    "print(pival_out)"
   ]
  },
  {
   "cell_type": "code",
   "execution_count": 9,
   "metadata": {},
   "outputs": [
    {
     "name": "stdout",
     "output_type": "stream",
     "text": [
      "45\n"
     ]
    },
    {
     "name": "stdout",
     "output_type": "stream",
     "text": [
      "723\n"
     ]
    }
   ],
   "source": [
    "'''\n",
    "In-class activity: If T = [[121, 99, 145], [45, 119, 225], [235, 170, 723]]\n",
    "Find\n",
    "1) the minimum value in T and print it\n",
    "2) the maximum value in T and print it\n",
    "'''\n",
    "T = [[121, 99, 145], [45, 119, 225], [235, 170, 723]]\n",
    "\n",
    "with tf.Session() as sess1:\n",
    "    print(sess1.run(tf.reduce_min(T)))\n",
    "\n",
    "with tf.Session() as sess1:\n",
    "    print(sess1.run(tf.reduce_max(T)))\n",
    "\n",
    "\n"
   ]
  },
  {
   "cell_type": "code",
   "execution_count": null,
   "metadata": {},
   "outputs": [],
   "source": []
  },
  {
   "cell_type": "code",
   "execution_count": 10,
   "metadata": {},
   "outputs": [],
   "source": [
    "'''\n",
    "In-class activity: If T = [[121, 99, 145], [45, 119, 0], [235, 170, 723]]. Let eps = 0.001. \n",
    "Find\n",
    "1) add eps to every element in T\n",
    "2) compute the log of the tensor that is obtained in 1).\n",
    "'''\n",
    "T = [[121, 99, 145], [45, 119, 0], [235, 170, 723]]\n",
    "eps = tf.constant(1e-5, dtype=tf.float32)\n",
    "\n"
   ]
  },
  {
   "cell_type": "code",
   "execution_count": 26,
   "metadata": {},
   "outputs": [
    {
     "data": {
      "text/plain": [
       "'\\nIn-class activity: If T = [[121, 99, 145], [45, 119, 0], [235, 170, 723]]. Let eps = 0.001. \\nFind\\n1) add eps to every element in T\\n2) compute the log of the tensor that is obtained in 1).\\n'"
      ]
     },
     "execution_count": 26,
     "metadata": {},
     "output_type": "execute_result"
    }
   ],
   "source": [
    "'''\n",
    "In-class activity: If T = [[121, 99, 145], [45, 119, 0], [235, 170, 723]]. Let eps = 0.001. \n",
    "Find\n",
    "1) add eps to every element in T\n",
    "2) compute the log of the tensor that is obtained in 1).\n",
    "'''\n",
    "\n"
   ]
  },
  {
   "cell_type": "code",
   "execution_count": 12,
   "metadata": {},
   "outputs": [
    {
     "ename": "AttributeError",
     "evalue": "'NoneType' object has no attribute 'shape'",
     "traceback": [
      "\u001b[0;31m---------------------------------------------------------------------------\u001b[0m",
      "\u001b[0;31mAttributeError\u001b[0m                            Traceback (most recent call last)",
      "\u001b[0;32m<ipython-input-12-72cabc9cc44e>\u001b[0m in \u001b[0;36m<module>\u001b[0;34m\u001b[0m\n\u001b[1;32m      6\u001b[0m \u001b[0;34m\u001b[0m\u001b[0m\n\u001b[1;32m      7\u001b[0m \u001b[0mlogoimg\u001b[0m \u001b[0;34m=\u001b[0m \u001b[0mcv2\u001b[0m\u001b[0;34m.\u001b[0m\u001b[0mimread\u001b[0m\u001b[0;34m(\u001b[0m\u001b[0;34m'tensorflow_logo_gray.png'\u001b[0m\u001b[0;34m,\u001b[0m\u001b[0;36m0\u001b[0m\u001b[0;34m)\u001b[0m\u001b[0;34m\u001b[0m\u001b[0m\n\u001b[0;32m----> 8\u001b[0;31m \u001b[0mprint\u001b[0m\u001b[0;34m(\u001b[0m\u001b[0mlogoimg\u001b[0m\u001b[0;34m.\u001b[0m\u001b[0mshape\u001b[0m\u001b[0;34m)\u001b[0m\u001b[0;34m\u001b[0m\u001b[0m\n\u001b[0m\u001b[1;32m      9\u001b[0m \u001b[0;34m\u001b[0m\u001b[0m\n\u001b[1;32m     10\u001b[0m \u001b[0mmaxpixelvalue\u001b[0m \u001b[0;34m=\u001b[0m \u001b[0mtf\u001b[0m\u001b[0;34m.\u001b[0m\u001b[0mconstant\u001b[0m\u001b[0;34m(\u001b[0m\u001b[0;36m255\u001b[0m\u001b[0;34m,\u001b[0m \u001b[0mdtype\u001b[0m\u001b[0;34m=\u001b[0m\u001b[0mtf\u001b[0m\u001b[0;34m.\u001b[0m\u001b[0mfloat32\u001b[0m\u001b[0;34m)\u001b[0m\u001b[0;34m\u001b[0m\u001b[0m\n",
      "\u001b[0;31mAttributeError\u001b[0m: 'NoneType' object has no attribute 'shape'"
     ],
     "output_type": "error"
    }
   ],
   "source": [
    "'''\n",
    "In-class activity\n",
    "'''\n",
    "import cv2\n",
    "import tensorflow as tf\n",
    "\n",
    "logoimg = cv2.imread('tensorflow_logo_gray.png',0)\n",
    "print(logoimg.shape)\n",
    "\n",
    "maxpixelvalue = tf.constant(255, dtype=tf.float32)\n",
    "img = tf.placeholder(tf.float32, shape=None)\n",
    "eps = tf.constant(1e-5, dtype=tf.float32)\n",
    "\n",
    "\n",
    "'''\n",
    "1. Apply log transformation to the placeholder image, img. Make sure to add eps to it, so that we do not \n",
    "calculate log(0)\n",
    "'''\n",
    "\n",
    "#2. Calculate the maximum value in the tensor from the previous step across all dimensions\n",
    "\n",
    "#3. Calculate the minimum value in the tensor from the previous step across all dimensions\n",
    "\n",
    "#4. Scale the tensor, so that the resultant tensor can only have values from 0 to 255. Use the formula \n",
    "#maxpixelvalue*(logval-min)/(max-min)\n",
    "\n",
    "\n",
    "logval = tf.log(img+eps)\n",
    "min = tf.reduce_min(logval)\n",
    "max = tf.reduce_max(logval)\n",
    "\n",
    "scaledlogtransformed = maxpixelvalue *(logval-min)/(max-min)\n",
    "print(scaledlogtransformed)\n",
    "\n",
    "with tf.Session() as sess1:\n",
    "    scaledimg = sess1.run(scaledlogtransformed, feed_dict={img: logoimg})\n",
    "    \n",
    "cv2.imwrite('logoimage.png', scaledimg)"
   ]
  }
 ],
 "metadata": {
  "anaconda-cloud": {},
  "kernelspec": {
   "display_name": "Python 3",
   "language": "python",
   "name": "python3"
  },
  "language_info": {
   "codemirror_mode": {
    "name": "ipython",
    "version": 3
   },
   "file_extension": ".py",
   "mimetype": "text/x-python",
   "name": "python",
   "nbconvert_exporter": "python",
   "pygments_lexer": "ipython3",
   "version": "3.5.2"
  },
  "widgets": {
   "state": {},
   "version": "1.1.2"
  }
 },
 "nbformat": 4,
 "nbformat_minor": 1
}
