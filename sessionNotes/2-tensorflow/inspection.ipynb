{
 "cells": [
  {
   "cell_type": "markdown",
   "metadata": {},
   "source": [
    "# Inspecting tensors\n",
    "\n",
    "The details of the various variables and methods for inspection of a tensor is available at https://www.tensorflow.org/api_docs/python/state_ops/\n",
    "\n",
    "We will discuss a few variables below. The graph to which a given tensor belongs can be obtained using graph variable. \n",
    "\n",
    "The 'op' variable returns the details of the operations in a given tensor. For example in the mainno variable, the op returns the fact that the operation is random_uniform, the output type is int32 and the seed (3457) obtained from the graph.\n",
    "\n",
    "A call to 'op' variable for powerballno shows that the operation is concatenate and that there are two calls to random_uniform function."
   ]
  },
  {
   "cell_type": "code",
   "execution_count": 1,
   "metadata": {},
   "outputs": [
    {
     "name": "stderr",
     "output_type": "stream",
     "text": [
      "/anaconda3/envs/tf-cpu/lib/python3.5/site-packages/h5py/__init__.py:36: FutureWarning: Conversion of the second argument of issubdtype from `float` to `np.floating` is deprecated. In future, it will be treated as `np.float64 == np.dtype(float).type`.\n  from ._conv import register_converters as _register_converters\n"
     ]
    },
    {
     "name": "stdout",
     "output_type": "stream",
     "text": [
      "[25 28 22 33 54 18 25 28 22 33 54]\n[25 28 22 33 54 18 25 28 22 33 54]\n-------- Graph Object --------\n<tensorflow.python.framework.ops.Graph object at 0x10d0b2ac8>\nname: \"concat\"\nop: \"ConcatV2\"\ninput: \"random_uniform\"\ninput: \"random_uniform_1\"\ninput: \"random_uniform\"\ninput: \"concat/axis\"\nattr {\n  key: \"N\"\n  value {\n    i: 3\n  }\n}\nattr {\n  key: \"T\"\n  value {\n    type: DT_INT32\n  }\n}\nattr {\n  key: \"Tidx\"\n  value {\n    type: DT_INT32\n  }\n}\n\n"
     ]
    }
   ],
   "source": [
    "import tensorflow as tf\n",
    "tf.set_random_seed(3457)\n",
    "mainno =tf.random_uniform(shape=(5, ), minval=1, maxval=59, dtype=tf.int32)\n",
    "lastno = tf.random_uniform((1, ), minval=1, maxval=35, dtype=tf.int32)\n",
    "powerballno = tf.concat([mainno, lastno, mainno], 0)\n",
    "with tf.Session() as sess1:\n",
    "    print(sess1.run(powerballno))\n",
    "\n",
    "with tf.Session() as sess2:\n",
    "    print(sess2.run(powerballno))\n",
    "    \n",
    "# Properties of a variable \n",
    "print(\"-------- Graph Object --------\")\n",
    "print(powerballno.graph)\n",
    "\n",
    "#print(\"-------- Operations in mainno --------\")\n",
    "#print(mainno.op)\n",
    "\n",
    "#print(\"-------- Operations in powerballno --------\")\n",
    "print(powerballno.op)"
   ]
  },
  {
   "cell_type": "markdown",
   "metadata": {},
   "source": [
    "To get a list of all the properties and variables associated with a given variable, use the dir() function."
   ]
  },
  {
   "cell_type": "code",
   "execution_count": 2,
   "metadata": {
    "collapsed": true
   },
   "outputs": [
    {
     "name": "stdout",
     "output_type": "stream",
     "text": [
      "['OVERLOADABLE_OPERATORS', '__abs__', '__add__', '__and__', '__array_priority__', '__bool__', '__class__', '__copy__', '__delattr__', '__dict__', '__dir__', '__div__', '__doc__', '__eq__', '__floordiv__', '__format__', '__ge__', '__getattribute__', '__getitem__', '__gt__', '__hash__', '__init__', '__invert__', '__iter__', '__le__', '__lt__', '__matmul__', '__mod__', '__module__', '__mul__', '__ne__', '__neg__', '__new__', '__nonzero__', '__or__', '__pow__', '__radd__', '__rand__', '__rdiv__', '__reduce__', '__reduce_ex__', '__repr__', '__rfloordiv__', '__rmatmul__', '__rmod__', '__rmul__', '__ror__', '__rpow__', '__rsub__', '__rtruediv__', '__rxor__', '__setattr__', '__sizeof__', '__str__', '__sub__', '__subclasshook__', '__truediv__', '__weakref__', '__xor__', '_as_node_def_input', '_as_tf_output', '_c_api_shape', '_consumers', '_dtype', '_get_input_ops_without_shapes', '_id', '_op', '_override_operator', '_rank', '_shape', '_shape_as_list', '_shape_tuple', '_shape_val', '_tf_api_names', '_tf_api_names_v1', '_tf_output', '_value_index', 'consumers', 'device', 'dtype', 'eval', 'get_shape', 'graph', 'name', 'op', 'set_shape', 'shape', 'value_index']\n"
     ]
    }
   ],
   "source": [
    "print(dir(mainno))"
   ]
  },
  {
   "cell_type": "markdown",
   "metadata": {},
   "source": [
    "As can be seen in the example above, the variable mainno has many \"magic\" methods, the methods that have \\_\\_ (double underscore a.k.a dunder) on either sides. You can find more details about magic methods at https://docs.python.org/3/reference/datamodel.html#special-method-names.  We will demonstrate the use of magic methods using an example.\n",
    "\n",
    "We will create 2 variables var1 and var2 using numpy and convert them to tensors using tf.constant. The variable var1 is of size (1, 3,) and all its values are equal to 5. The variable var2 is also of size (1, 3,) and all its values are equal to 1. The variables are added using three methods, one using a magic method and the second using add function and the third using the operator +. The operations  stored in to variables sumvar_dunder, sumvar_nondunder and sumvar_operator. When a session is started and executed, the three methods yield the same value, a tensor of length 3 containing values of 6. \n",
    "\n",
    "\n",
    "\n",
    "It is important to note the following:\n",
    "1. The three mechanisms produce the same result.\n",
    "2. The use of + operator is 'pythonic' while the use of add or \\_\\_add\\_\\_ is not.\n",
    "3. The use of + operator produces a readable code while the use of add or \\_\\_add\\_\\_ does not.\n",
    "4. The + operator overloads the meaning of addition of tensors using \\_\\_add\\_\\_ method."
   ]
  },
  {
   "cell_type": "code",
   "execution_count": 3,
   "metadata": {},
   "outputs": [
    {
     "name": "stdout",
     "output_type": "stream",
     "text": [
      "Tensor(\"add:0\", shape=(1, 3), dtype=float64) add:0\nTensor(\"Add_1:0\", shape=(1, 3), dtype=float64) Add_1:0\nTensor(\"add_2:0\", shape=(1, 3), dtype=float64) add_2:0\n[[6. 6. 6.]]\n[[6. 6. 6.]]\n[[6. 6. 6.]]\n"
     ]
    }
   ],
   "source": [
    "import numpy as np\n",
    "\n",
    "var1 = tf.constant(np.ones((1, 3,))*5)\n",
    "var2 = tf.constant(np.ones((1, 3,)))\n",
    "\n",
    "sumvar_dunder = var1.__add__(var2)\n",
    "print(sumvar_dunder, sumvar_dunder.name)\n",
    "\n",
    "sumvar_nondunder = tf.add(var1, var2)\n",
    "print(sumvar_nondunder, sumvar_nondunder.name)\n",
    "\n",
    "sumvar_operator = var1 + var2\n",
    "print(sumvar_operator, sumvar_operator.name)\n",
    "\n",
    "with tf.Session() as sess1:\n",
    "    print(sess1.run(sumvar_dunder))\n",
    "    print(sess1.run(sumvar_nondunder))\n",
    "    print(sess1.run(sumvar_operator)) "
   ]
  },
  {
   "cell_type": "code",
   "execution_count": null,
   "metadata": {},
   "outputs": [],
   "source": []
  },
  {
   "cell_type": "code",
   "execution_count": null,
   "metadata": {},
   "outputs": [],
   "source": []
  },
  {
   "cell_type": "code",
   "execution_count": null,
   "metadata": {},
   "outputs": [],
   "source": []
  },
  {
   "cell_type": "code",
   "execution_count": null,
   "metadata": {},
   "outputs": [],
   "source": []
  }
 ],
 "metadata": {
  "kernelspec": {
   "display_name": "Python 3",
   "language": "python",
   "name": "python3"
  },
  "language_info": {
   "codemirror_mode": {
    "name": "ipython",
    "version": 3
   },
   "file_extension": ".py",
   "mimetype": "text/x-python",
   "name": "python",
   "nbconvert_exporter": "python",
   "pygments_lexer": "ipython3",
   "version": "3.5.2"
  },
  "widgets": {
   "state": {},
   "version": "1.1.2"
  }
 },
 "nbformat": 4,
 "nbformat_minor": 1
}
