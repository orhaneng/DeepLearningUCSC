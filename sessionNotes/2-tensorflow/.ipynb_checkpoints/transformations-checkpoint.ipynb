{
 "cells": [
  {
   "cell_type": "markdown",
   "metadata": {},
   "source": [
    "# Transformation"
   ]
  },
  {
   "cell_type": "markdown",
   "metadata": {},
   "source": [
    "## Casting"
   ]
  },
  {
   "cell_type": "code",
   "execution_count": 1,
   "metadata": {},
   "outputs": [
    {
     "name": "stderr",
     "output_type": "stream",
     "text": [
      "/anaconda3/envs/tf-cpu/lib/python3.5/site-packages/requests/__init__.py:91: RequestsDependencyWarning: urllib3 (1.24.1) or chardet (3.0.4) doesn't match a supported version!\n",
      "  RequestsDependencyWarning)\n"
     ]
    }
   ],
   "source": [
    "import tensorflow as tf\n",
    "import numpy as np"
   ]
  },
  {
   "cell_type": "code",
   "execution_count": 3,
   "metadata": {},
   "outputs": [
    {
     "name": "stdout",
     "output_type": "stream",
     "text": [
      "Tensor(\"Const_1:0\", shape=(3,), dtype=int32)\n",
      "Tensor(\"Cast_1:0\", shape=(3,), dtype=float32)\n"
     ]
    }
   ],
   "source": [
    "t1 = tf.constant([1, 2, 3]) # The datatype for individual element is int32\n",
    "print(t1)\n",
    "t2 = tf.cast(t1, tf.float32)  # Cast the individual elements from int32 to float32\n",
    "print(t2)"
   ]
  },
  {
   "cell_type": "code",
   "execution_count": 4,
   "metadata": {},
   "outputs": [
    {
     "name": "stdout",
     "output_type": "stream",
     "text": [
      "Tensor(\"ToFloat:0\", shape=(3,), dtype=float32)\n"
     ]
    }
   ],
   "source": [
    "# tf.cast is generic method that can be used to convert from one dtype to another\n",
    "# There are also specialized method such as tf.to_float32()\n",
    "t2 = tf.to_float(t1)  # Specialized function. \n",
    "print(t2)"
   ]
  },
  {
   "cell_type": "code",
   "execution_count": 10,
   "metadata": {},
   "outputs": [
    {
     "name": "stdout",
     "output_type": "stream",
     "text": [
      "Tensor(\"Const_3:0\", shape=(3,), dtype=int32)\n",
      "Tensor(\"Cast_2:0\", shape=(3,), dtype=float32)\n"
     ]
    }
   ],
   "source": [
    "'''\n",
    "In-class activity: Define a tensor, T1 with values [31 37 41] then print the dtype of this tensor. \n",
    "Then change T1's dtype to float using \n",
    "1) to_float()\n",
    "2) cast()\n",
    "'''\n",
    "T1 = tf.constant([31,37,41]) \n",
    "print(T1)\n",
    "T1 = tf.cast(T1, tf.float32)\n",
    "print(T1)"
   ]
  },
  {
   "cell_type": "code",
   "execution_count": null,
   "metadata": {},
   "outputs": [],
   "source": [
    "\n",
    "    "
   ]
  },
  {
   "cell_type": "markdown",
   "metadata": {},
   "source": [
    "\n",
    "## Shapes"
   ]
  },
  {
   "cell_type": "code",
   "execution_count": 15,
   "metadata": {},
   "outputs": [
    {
     "name": "stdout",
     "output_type": "stream",
     "text": [
      "360\n"
     ]
    }
   ],
   "source": [
    "# create a 4D tensor of shape 3, 4, 5, 6\n",
    "t1 = tf.zeros((3, 4, 5, 6)) \n",
    "t2 = tf.size(t1) # Size gives the number of elements\n",
    "with tf.Session() as sess1:\n",
    "    print(sess1.run(t2))"
   ]
  },
  {
   "cell_type": "code",
   "execution_count": 12,
   "metadata": {},
   "outputs": [
    {
     "name": "stdout",
     "output_type": "stream",
     "text": [
      "[3 4 5 6]\n"
     ]
    }
   ],
   "source": [
    "# create a 4D tensor of shape 3, 4, 5, 6\n",
    "t1 = tf.zeros((3, 4, 5, 6))\n",
    "t2 = tf.shape(t1) # shape gives the size of each dimension\n",
    "with tf.Session() as sess1:\n",
    "    print(sess1.run(t2))"
   ]
  },
  {
   "cell_type": "code",
   "execution_count": 16,
   "metadata": {},
   "outputs": [
    {
     "name": "stdout",
     "output_type": "stream",
     "text": [
      "Tensor(\"zeros_4:0\", shape=(3, 4, 5, 6), dtype=float32) Tensor(\"Reshape:0\", shape=(12, 5, 6), dtype=float32)\n"
     ]
    }
   ],
   "source": [
    "t1 = tf.zeros((3, 4, 5, 6))\n",
    "t2 = tf.reshape(t1, (12, 5, 6)) # reshape tensor\n",
    "print(t1, t2)\n",
    "# Note that t1 is of shape 3, 4, 5, 6 while t2 is of shape 12, 5, 6"
   ]
  },
  {
   "cell_type": "code",
   "execution_count": 24,
   "metadata": {},
   "outputs": [
    {
     "name": "stdout",
     "output_type": "stream",
     "text": [
      "Tensor(\"zeros_12:0\", shape=(3, 4, 1, 6), dtype=float32)\n",
      "Tensor(\"Squeeze_7:0\", shape=(3, 4, 6), dtype=float32)\n"
     ]
    }
   ],
   "source": [
    "t1 = tf.zeros((3, 4, 1, 6))\n",
    "t2 = tf.squeeze(t1) # squeeze removes dimensions of size 1\n",
    "print(t1)\n",
    "print(t2)\n",
    "# Note that t1 is of shape 3, 4, 1, 6 while t2 is of shape 3, 4, 6. \n",
    "# The 3rd dimension of size 1 is removed"
   ]
  },
  {
   "cell_type": "markdown",
   "metadata": {},
   "source": [
    "The syntax for slice is tf.slice(inputtensor, begin, size)\n",
    "\n",
    "begin has the same shape as the tensor and it contains the starting point in each dimension. In this example, the value of begin is [2, 0].  Thus in the first dimension (row) we begin at position 2 and  in the second dimension (column) we begin at 0. \n",
    "\n",
    "size has the same shape as the tensor and it contains the number of elements in each dimension. In this example, the value of size is [1, 2]. Thus we are indicating that we need one row and two columns to be sliced.\n",
    "\n",
    "** NOTE: begin is zero based and size is 1 based. **"
   ]
  },
  {
   "cell_type": "code",
   "execution_count": 30,
   "metadata": {},
   "outputs": [
    {
     "name": "stdout",
     "output_type": "stream",
     "text": [
      "[[  1  -1   3]\n",
      " [-11   2   1]\n",
      " [ -5   6   9]]\n",
      "[[-5  6]]\n"
     ]
    }
   ],
   "source": [
    "t1 = tf.constant([[1, -1, 3], [-11, 2, 1], [-5, 6, 9]])\n",
    "t2 = tf.slice(t1, [2, 0], [1, 2])\n",
    "\n",
    "with tf.Session() as sess1:\n",
    "    print(sess1.run(t1))\n",
    "    print(sess1.run(t2))"
   ]
  },
  {
   "cell_type": "code",
   "execution_count": 34,
   "metadata": {},
   "outputs": [
    {
     "name": "stdout",
     "output_type": "stream",
     "text": [
      "[[ 0.  0.  0.  0.  0.  0.  0.  0.  0.  0.  0.  0.  0.  0.]\n",
      " [ 0.  0.  0.  0.  0.  0.  0.  0.  0.  0.  0.  0.  0.  0.]\n",
      " [ 0.  0.  0.  0.  0.  0.  0.  0.  0.  0.  0.  0.  0.  0.]\n",
      " [ 0.  0.  0.  0.  0.  0.  0.  0.  0.  0.  0.  0.  0.  0.]\n",
      " [ 0.  0.  0.  0.  0.  0.  0.  0.  0.  0.  0.  0.  0.  0.]\n",
      " [ 0.  0.  0.  0.  0.  0.  0.  0.  0.  0.  0.  0.  0.  0.]\n",
      " [ 0.  0.  0.  0.  0.  0.  0.  0.  0.  0.  0.  0.  0.  0.]\n",
      " [ 0.  0.  0.  0.  0.  0.  0.  0.  0.  0.  0.  0.  0.  0.]\n",
      " [ 0.  0.  0.  0.  0.  0.  0.  0.  0.  0.  0.  0.  0.  0.]\n",
      " [ 0.  0.  0.  0.  0.  0.  0.  0.  0.  0.  0.  0.  0.  0.]\n",
      " [ 0.  0.  0.  0.  0.  0.  0.  0.  0.  0.  0.  0.  0.  0.]\n",
      " [ 0.  0.  0.  0.  0.  0.  0.  0.  0.  0.  0.  0.  0.  0.]]\n"
     ]
    }
   ],
   "source": [
    "'''\n",
    "In-class activity: Create a tensor with shape (12, 1, 14) and then drop the dimension 1.\n",
    "'''\n",
    "T1=tf.zeros((12, 1, 14))\n",
    "t2 = tf.squeeze(T1)\n",
    "with tf.Session() as sess1:\n",
    "    print(sess1.run(t2))"
   ]
  },
  {
   "cell_type": "code",
   "execution_count": 42,
   "metadata": {},
   "outputs": [
    {
     "name": "stdout",
     "output_type": "stream",
     "text": [
      "[[ 9 11  9]]\n"
     ]
    }
   ],
   "source": [
    "'''\n",
    "In-class activity: If T1 is a tensor with values [[12, 13, 11], [9, 11, 9], [2, 5, 7]]. \n",
    "How can we slice T1 so that we get tensor with values [9, 11, 9].\n",
    "'''\n",
    "\n",
    "T1 = tf.constant([[12, 13, 11], [9, 11, 9], [2, 5, 7]])\n",
    "t2 = tf.slice(T1, [1, 0], [1, 3])\n",
    "with tf.Session() as sess1:\n",
    "    print(sess1.run(t2))"
   ]
  },
  {
   "cell_type": "code",
   "execution_count": null,
   "metadata": {},
   "outputs": [],
   "source": []
  }
 ],
 "metadata": {
  "anaconda-cloud": {},
  "kernel_info": {
   "name": "python3"
  },
  "kernelspec": {
   "display_name": "Python 3",
   "language": "python",
   "name": "python3"
  },
  "language_info": {
   "codemirror_mode": {
    "name": "ipython",
    "version": 3
   },
   "file_extension": ".py",
   "mimetype": "text/x-python",
   "name": "python",
   "nbconvert_exporter": "python",
   "pygments_lexer": "ipython3",
   "version": "3.5.2"
  },
  "nteract": {
   "version": "0.6.2"
  },
  "widgets": {
   "state": {},
   "version": "1.1.2"
  }
 },
 "nbformat": 4,
 "nbformat_minor": 1
}
