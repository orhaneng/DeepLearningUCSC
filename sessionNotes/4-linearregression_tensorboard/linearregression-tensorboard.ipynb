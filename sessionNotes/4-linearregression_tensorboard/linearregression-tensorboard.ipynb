{
 "cells": [
  {
   "cell_type": "code",
   "execution_count": 1,
   "metadata": {},
   "outputs": [
    {
     "name": "stderr",
     "output_type": "stream",
     "text": [
      "/anaconda3/envs/tf-cpu/lib/python3.5/site-packages/requests/__init__.py:91: RequestsDependencyWarning: urllib3 (1.24.1) or chardet (3.0.4) doesn't match a supported version!\n",
      "  RequestsDependencyWarning)\n"
     ]
    }
   ],
   "source": [
    "import tensorflow as tf\n",
    "import pandas as pd\n",
    "import numpy as np\n",
    "import random\n",
    "import datetime"
   ]
  },
  {
   "cell_type": "markdown",
   "metadata": {},
   "source": [
    "<img src=\"optimizer_graph.png\" width=\"200px\">"
   ]
  },
  {
   "cell_type": "markdown",
   "metadata": {},
   "source": [
    "## Reading Data\n",
    "\n",
    "Data from https://archive.ics.uci.edu/ml/datasets/auto+mpg"
   ]
  },
  {
   "cell_type": "code",
   "execution_count": 2,
   "metadata": {},
   "outputs": [
    {
     "name": "stdout",
     "output_type": "stream",
     "text": [
      "count    398.000000\n",
      "mean       1.934259\n",
      "std        1.042698\n",
      "min        0.680000\n",
      "25%        1.042500\n",
      "50%        1.485000\n",
      "75%        2.620000\n",
      "max        4.550000\n",
      "Name: displacement, dtype: float64\n",
      "count    398.000000\n",
      "mean       0.235146\n",
      "std        0.078160\n",
      "min        0.090000\n",
      "25%        0.175000\n",
      "50%        0.230000\n",
      "75%        0.290000\n",
      "max        0.466000\n",
      "Name: mpg, dtype: float64\n"
     ]
    }
   ],
   "source": [
    "autompg = pd.read_csv('auto_mpg.csv')\n",
    "# Extract only the displacement and mpg column\n",
    "autompg_disp = autompg['displacement'].astype(float)\n",
    "autompg_mpg = autompg['mpg'].astype(float)\n",
    "\n",
    "# Scale data\n",
    "autompg_disp = autompg_disp.apply(lambda x:x/100)\n",
    "print(autompg_disp.describe())\n",
    "autompg_mpg = autompg_mpg.apply(lambda x: x/100)\n",
    "print(autompg_mpg.describe())"
   ]
  },
  {
   "cell_type": "code",
   "execution_count": 5,
   "metadata": {},
   "outputs": [],
   "source": [
    "# Convert numpy data series to numpy array\n",
    "train_X = np.asarray(autompg_disp)\n",
    "train_Y = np.asarray(autompg_mpg)\n",
    "n_samples = train_X.shape[0]"
   ]
  },
  {
   "cell_type": "code",
   "execution_count": 6,
   "metadata": {},
   "outputs": [
    {
     "name": "stdout",
     "output_type": "stream",
     "text": [
      "(array([ 1.13 ,  0.98 ,  2.32 ,  2.25 ,  2.5  ,  2.5  ,  2.32 ,  3.5  ,\n",
      "        4.   ,  3.51 ,  3.18 ,  3.83 ,  4.   ,  4.   ,  2.58 ,  1.4  ,\n",
      "        2.5  ,  2.5  ,  1.22 ,  1.16 ,  0.79 ,  0.88 ,  0.71 ,  0.72 ,\n",
      "        0.97 ,  0.91 ,  1.13 ,  0.975,  0.97 ,  1.4  ]), array([ 0.25,  0.25,  0.19,  0.16,  0.17,  0.19,  0.18,  0.14,  0.14,\n",
      "        0.14,  0.14,  0.12,  0.13,  0.13,  0.18,  0.22,  0.19,  0.18,\n",
      "        0.23,  0.28,  0.3 ,  0.3 ,  0.31,  0.35,  0.27,  0.26,  0.24,\n",
      "        0.25,  0.23,  0.2 ]))\n",
      "(array([ 0.91,  1.51,  1.73,  1.73,  1.51,  0.98,  0.89,  0.98,  0.86,\n",
      "        1.51,  1.4 ,  1.51,  2.25,  0.97,  1.34,  1.2 ,  1.19,  1.08,\n",
      "        0.86,  1.56,  0.85,  0.9 ,  0.9 ,  1.21,  1.46,  0.91,  0.85,\n",
      "        0.97,  0.89,  1.68]), array([ 0.373,  0.284,  0.288,  0.268,  0.335,  0.415,  0.381,  0.321,\n",
      "        0.372,  0.28 ,  0.264,  0.243,  0.191,  0.343,  0.298,  0.313,\n",
      "        0.37 ,  0.322,  0.466,  0.279,  0.408,  0.443,  0.434,  0.364,\n",
      "        0.3  ,  0.446,  0.409,  0.338,  0.298,  0.327]))\n",
      "(array([ 0.96,  1.22,  0.97,  1.2 ,  0.98,  0.97,  3.5 ,  3.04,  3.5 ,\n",
      "        3.02,  3.18,  4.29,  4.  ,  3.51,  3.18,  4.4 ,  4.55,  3.6 ,\n",
      "        2.25,  2.5 ,  2.32,  2.5 ,  1.98,  0.97,  4.  ,  4.  ,  3.6 ,\n",
      "        3.5 ,  2.32,  0.97]), array([ 0.26,  0.22,  0.28,  0.23,  0.28,  0.27,  0.13,  0.14,  0.13,\n",
      "        0.14,  0.15,  0.12,  0.13,  0.13,  0.14,  0.13,  0.12,  0.13,\n",
      "        0.18,  0.16,  0.18,  0.18,  0.23,  0.26,  0.11,  0.12,  0.13,\n",
      "        0.12,  0.18,  0.2 ]))\n",
      "(array([ 2.5 ,  2.5 ,  2.58,  0.97,  0.85,  0.97,  1.4 ,  1.3 ,  3.18,\n",
      "        1.2 ,  1.56,  1.68,  3.5 ,  3.5 ,  3.02,  3.18,  0.98,  1.11,\n",
      "        0.79,  1.22,  0.85,  3.05,  2.6 ,  3.18,  3.02,  2.5 ,  2.31,\n",
      "        2.25,  2.5 ,  4.  ]), array([ 0.18 ,  0.185,  0.175,  0.295,  0.32 ,  0.28 ,  0.265,  0.2  ,\n",
      "        0.13 ,  0.19 ,  0.19 ,  0.165,  0.165,  0.13 ,  0.13 ,  0.13 ,\n",
      "        0.315,  0.3  ,  0.36 ,  0.255,  0.335,  0.175,  0.17 ,  0.155,\n",
      "        0.15 ,  0.175,  0.205,  0.19 ,  0.185,  0.16 ]))\n",
      "(array([ 1.1 ,  1.07,  1.04,  1.21,  1.99,  3.6 ,  3.07,  3.18,  3.04,\n",
      "        0.97,  1.4 ,  1.13,  0.98,  2.32,  2.25,  2.5 ,  2.5 ,  2.32,\n",
      "        3.5 ,  4.  ,  3.51,  3.18,  3.83,  4.  ,  4.  ,  2.58,  1.4 ,\n",
      "        2.5 ,  2.5 ,  1.22]), array([ 0.25,  0.24,  0.25,  0.26,  0.21,  0.1 ,  0.1 ,  0.11,  0.09,\n",
      "        0.27,  0.28,  0.25,  0.25,  0.19,  0.16,  0.17,  0.19,  0.18,\n",
      "        0.14,  0.14,  0.14,  0.14,  0.12,  0.13,  0.13,  0.18,  0.22,\n",
      "        0.19,  0.18,  0.23]))\n",
      "(array([ 3.04,  0.98,  0.79,  0.97,  0.76,  0.83,  0.9 ,  0.9 ,  1.16,\n",
      "        1.2 ,  1.08,  0.79,  2.25,  2.5 ,  2.5 ,  2.5 ,  4.  ,  3.5 ,\n",
      "        3.18,  3.51,  2.31,  2.5 ,  2.58,  2.25,  2.31,  2.62,  3.02,\n",
      "        0.97,  1.4 ,  2.32]), array([ 0.14,  0.29,  0.26,  0.26,  0.31,  0.32,  0.28,  0.24,  0.26,\n",
      "        0.24,  0.26,  0.31,  0.19,  0.18,  0.15,  0.15,  0.16,  0.15,\n",
      "        0.16,  0.14,  0.17,  0.16,  0.15,  0.18,  0.21,  0.2 ,  0.13,\n",
      "        0.29,  0.23,  0.2 ]))\n",
      "(array([ 2.6 ,  1.05,  1.05,  0.85,  0.91,  1.51,  1.73,  1.73,  1.51,\n",
      "        0.98,  0.89,  0.98,  0.86,  1.51,  1.4 ,  1.51,  2.25,  0.97,\n",
      "        1.34,  1.2 ,  1.19,  1.08,  0.86,  1.56,  0.85,  0.9 ,  0.9 ,\n",
      "        1.21,  1.46,  0.91]), array([ 0.239,  0.342,  0.345,  0.318,  0.373,  0.284,  0.288,  0.268,\n",
      "        0.335,  0.415,  0.381,  0.321,  0.372,  0.28 ,  0.264,  0.243,\n",
      "        0.191,  0.343,  0.298,  0.313,  0.37 ,  0.322,  0.466,  0.279,\n",
      "        0.408,  0.443,  0.434,  0.364,  0.3  ,  0.446]))\n",
      "(array([ 1.19,  1.31,  1.63,  1.21,  1.63,  0.89,  0.98,  2.31,  2.  ,\n",
      "        1.4 ,  2.32,  2.25,  3.05,  3.02,  3.51,  3.18,  3.5 ,  3.51,\n",
      "        2.67,  3.6 ,  0.89,  0.86,  0.98,  1.21,  1.83,  3.5 ,  1.41,\n",
      "        2.6 ,  1.05,  1.05]), array([ 0.239,  0.203,  0.17 ,  0.216,  0.162,  0.315,  0.295,  0.215,\n",
      "        0.198,  0.223,  0.202,  0.206,  0.17 ,  0.176,  0.165,  0.182,\n",
      "        0.169,  0.155,  0.192,  0.185,  0.319,  0.341,  0.357,  0.274,\n",
      "        0.254,  0.23 ,  0.272,  0.239,  0.342,  0.345]))\n",
      "(array([ 3.18,  0.98,  1.34,  1.19,  1.05,  1.34,  1.56,  1.51,  1.19,\n",
      "        1.31,  1.63,  1.21,  1.63,  0.89,  0.98,  2.31,  2.  ,  1.4 ,\n",
      "        2.32,  2.25,  3.05,  3.02,  3.51,  3.18,  3.5 ,  3.51,  2.67,\n",
      "        3.6 ,  0.89,  0.86]), array([ 0.175,  0.3  ,  0.275,  0.272,  0.309,  0.211,  0.232,  0.238,\n",
      "        0.239,  0.203,  0.17 ,  0.216,  0.162,  0.315,  0.295,  0.215,\n",
      "        0.198,  0.223,  0.202,  0.206,  0.17 ,  0.176,  0.165,  0.182,\n",
      "        0.169,  0.155,  0.192,  0.185,  0.319,  0.341]))\n",
      "(array([ 1.13 ,  0.98 ,  2.32 ,  2.25 ,  2.5  ,  2.5  ,  2.32 ,  3.5  ,\n",
      "        4.   ,  3.51 ,  3.18 ,  3.83 ,  4.   ,  4.   ,  2.58 ,  1.4  ,\n",
      "        2.5  ,  2.5  ,  1.22 ,  1.16 ,  0.79 ,  0.88 ,  0.71 ,  0.72 ,\n",
      "        0.97 ,  0.91 ,  1.13 ,  0.975,  0.97 ,  1.4  ]), array([ 0.25,  0.25,  0.19,  0.16,  0.17,  0.19,  0.18,  0.14,  0.14,\n",
      "        0.14,  0.14,  0.12,  0.13,  0.13,  0.18,  0.22,  0.19,  0.18,\n",
      "        0.23,  0.28,  0.3 ,  0.3 ,  0.31,  0.35,  0.27,  0.26,  0.24,\n",
      "        0.25,  0.23,  0.2 ]))\n",
      "(array([ 2.  ,  0.97,  0.97,  1.1 ,  1.07,  1.04,  1.21,  1.99,  3.6 ,\n",
      "        3.07,  3.18,  3.04,  0.97,  1.4 ,  1.13,  0.98,  2.32,  2.25,\n",
      "        2.5 ,  2.5 ,  2.32,  3.5 ,  4.  ,  3.51,  3.18,  3.83,  4.  ,\n",
      "        4.  ,  2.58,  1.4 ]), array([ 0.21,  0.27,  0.26,  0.25,  0.24,  0.25,  0.26,  0.21,  0.1 ,\n",
      "        0.1 ,  0.11,  0.09,  0.27,  0.28,  0.25,  0.25,  0.19,  0.16,\n",
      "        0.17,  0.19,  0.18,  0.14,  0.14,  0.14,  0.14,  0.12,  0.13,\n",
      "        0.13,  0.18,  0.22]))\n",
      "(array([ 0.8 ,  0.9 ,  0.98,  0.78,  0.85,  0.91,  2.6 ,  3.18,  3.02,\n",
      "        2.31,  2.  ,  2.  ,  1.4 ,  2.25,  2.32,  2.31,  2.  ,  2.25,\n",
      "        2.58,  3.05,  2.31,  3.02,  3.18,  0.98,  1.34,  1.19,  1.05,\n",
      "        1.34,  1.56,  1.51]), array([ 0.215,  0.431,  0.361,  0.328,  0.394,  0.361,  0.199,  0.194,\n",
      "        0.202,  0.192,  0.205,  0.202,  0.251,  0.205,  0.194,  0.206,\n",
      "        0.208,  0.186,  0.181,  0.192,  0.177,  0.181,  0.175,  0.3  ,\n",
      "        0.275,  0.272,  0.309,  0.211,  0.232,  0.238]))\n",
      "(array([ 3.18,  3.04,  0.97,  1.4 ,  1.13,  0.98,  2.32,  2.25,  2.5 ,\n",
      "        2.5 ,  2.32,  3.5 ,  4.  ,  3.51,  3.18,  3.83,  4.  ,  4.  ,\n",
      "        2.58,  1.4 ,  2.5 ,  2.5 ,  1.22,  1.16,  0.79,  0.88,  0.71,\n",
      "        0.72,  0.97,  0.91]), array([ 0.11,  0.09,  0.27,  0.28,  0.25,  0.25,  0.19,  0.16,  0.17,\n",
      "        0.19,  0.18,  0.14,  0.14,  0.14,  0.14,  0.12,  0.13,  0.13,\n",
      "        0.18,  0.22,  0.19,  0.18,  0.23,  0.28,  0.3 ,  0.3 ,  0.31,\n",
      "        0.35,  0.27,  0.26]))\n",
      "(array([ 1.19,  1.2 ,  1.41,  1.45,  1.68,  1.46,  2.31,  3.5 ,  2.  ,\n",
      "        2.25,  1.12,  1.12,  1.12,  1.12,  1.35,  1.51,  1.4 ,  1.51,\n",
      "        1.05,  0.91,  0.91,  1.05,  0.98,  1.2 ,  1.07,  1.08,  0.91,\n",
      "        0.91,  0.91,  1.81]), array([ 0.329,  0.316,  0.281,  0.307,  0.254,  0.242,  0.224,  0.266,\n",
      "        0.202,  0.176,  0.28 ,  0.27 ,  0.34 ,  0.31 ,  0.29 ,  0.27 ,\n",
      "        0.24 ,  0.23 ,  0.36 ,  0.37 ,  0.31 ,  0.38 ,  0.36 ,  0.36 ,\n",
      "        0.36 ,  0.34 ,  0.38 ,  0.32 ,  0.38 ,  0.25 ]))\n"
     ]
    }
   ],
   "source": [
    "# get batch of data\n",
    "def getbatch(xval, yval, arraylength, batchsize=30):\n",
    "    count = 0 \n",
    "    while count < arraylength/batchsize:\n",
    "        randstart = random.randint(0, arraylength-batchsize-1)\n",
    "        count += 1\n",
    "        yield (xval[randstart:randstart+batchsize], yval[randstart:randstart+batchsize])\n",
    "\n",
    "# Test\n",
    "for i in getbatch(train_X, train_Y, n_samples):\n",
    "    print(i)"
   ]
  },
  {
   "cell_type": "markdown",
   "metadata": {},
   "source": [
    "## Setting hyper-parameters"
   ]
  },
  {
   "cell_type": "code",
   "execution_count": 7,
   "metadata": {},
   "outputs": [],
   "source": [
    "learning_rate = 0.003\n",
    "n_epochs = 3000\n",
    "display_step = 100"
   ]
  },
  {
   "cell_type": "markdown",
   "metadata": {},
   "source": [
    "## Defining X and Y as placeholders"
   ]
  },
  {
   "cell_type": "code",
   "execution_count": 8,
   "metadata": {},
   "outputs": [],
   "source": [
    "# Define placeholders and variables\n",
    "X = tf.placeholder(tf.float32)\n",
    "Y = tf.placeholder(tf.float32)"
   ]
  },
  {
   "cell_type": "markdown",
   "metadata": {},
   "source": [
    "## Initializing Weights and Biases"
   ]
  },
  {
   "cell_type": "code",
   "execution_count": 9,
   "metadata": {},
   "outputs": [],
   "source": [
    "W = tf.Variable(np.random.randn())\n",
    "b = tf.Variable(np.random.randn())"
   ]
  },
  {
   "cell_type": "markdown",
   "metadata": {},
   "source": [
    "## Defining model\n",
    "\n",
    "predicted is X*W+b"
   ]
  },
  {
   "cell_type": "code",
   "execution_count": 10,
   "metadata": {},
   "outputs": [],
   "source": [
    "pred = tf.add(tf.multiply(X, W), b)"
   ]
  },
  {
   "cell_type": "markdown",
   "metadata": {},
   "source": [
    "## Define cost and optimizer"
   ]
  },
  {
   "cell_type": "code",
   "execution_count": 11,
   "metadata": {},
   "outputs": [],
   "source": [
    "# The cost function is ((predicted-actual)^2)/2*n_samples. \n",
    "cost = tf.reduce_sum(tf.pow(pred-Y, 2))/(2*n_samples)\n",
    "\n",
    "optimizer = tf.train.GradientDescentOptimizer(learning_rate).minimize(cost)\n",
    "\n",
    "# Add all ops that need to be initialized\n",
    "# The initilization needs to be run only after session is created\n",
    "# as in session.run(init) below.\n",
    "init = tf.global_variables_initializer()"
   ]
  },
  {
   "cell_type": "code",
   "execution_count": 12,
   "metadata": {},
   "outputs": [],
   "source": [
    "# This cell is new compared to the previous linear regression code\n",
    "# Summary writer and its configuration\n",
    "writer = tf.summary.FileWriter(\"./logs\", graph=tf.get_default_graph())\n",
    "tf.summary.scalar(\"Cost\", cost)\n",
    "merged_summary_op = tf.summary.merge_all()"
   ]
  },
  {
   "cell_type": "markdown",
   "metadata": {},
   "source": [
    "## Running the session \n",
    "This will run the graph and use all the tensors that were previously defined"
   ]
  },
  {
   "cell_type": "code",
   "execution_count": 13,
   "metadata": {},
   "outputs": [
    {
     "name": "stdout",
     "output_type": "stream",
     "text": [
      "Epoch = 0100 and cost = 0.031425934\n",
      "Epoch = 0200 and cost = 0.027423650\n",
      "Epoch = 0300 and cost = 0.024433196\n",
      "Epoch = 0400 and cost = 0.021817476\n",
      "Epoch = 0500 and cost = 0.019474516\n",
      "Epoch = 0600 and cost = 0.017382778\n",
      "Epoch = 0700 and cost = 0.015555291\n",
      "Epoch = 0800 and cost = 0.013924750\n",
      "Epoch = 0900 and cost = 0.012488062\n",
      "Epoch = 1000 and cost = 0.011209786\n",
      "Epoch = 1100 and cost = 0.010059898\n",
      "Epoch = 1200 and cost = 0.009045811\n",
      "Epoch = 1300 and cost = 0.008146546\n",
      "Epoch = 1400 and cost = 0.007367916\n",
      "Epoch = 1500 and cost = 0.006653674\n",
      "Epoch = 1600 and cost = 0.006028199\n",
      "Epoch = 1700 and cost = 0.005462651\n",
      "Epoch = 1800 and cost = 0.004976470\n",
      "Epoch = 1900 and cost = 0.004542189\n",
      "Epoch = 2000 and cost = 0.004143090\n",
      "Epoch = 2100 and cost = 0.003796492\n",
      "Epoch = 2200 and cost = 0.003487252\n",
      "Epoch = 2300 and cost = 0.003213042\n",
      "Epoch = 2400 and cost = 0.002974840\n",
      "Epoch = 2500 and cost = 0.002761696\n",
      "Epoch = 2600 and cost = 0.002576479\n",
      "Epoch = 2700 and cost = 0.002412339\n",
      "Epoch = 2800 and cost = 0.002261740\n",
      "Epoch = 2900 and cost = 0.002130921\n",
      "Epoch = 3000 and cost = 0.002008600\n",
      "The final W = -0.0227 and b = 0.2608\n"
     ]
    }
   ],
   "source": [
    "with tf.Session() as sess:\n",
    "    sess.run(init)\n",
    "    for epoch in range(n_epochs):\n",
    "        for (x, y) in getbatch(train_X, train_Y, n_samples):\n",
    "            # In this line, we added write merged_summary that will write the cost to tensorboard\n",
    "            _, costval, merged_summary = sess.run([optimizer, cost, merged_summary_op], \n",
    "                                                  feed_dict={X: x, Y: y})\n",
    "        writer.add_summary(merged_summary, epoch)\n",
    "        # Every few display step, calculate and print cost\n",
    "        if (epoch+1) % display_step == 0:\n",
    "            c = sess.run(cost, feed_dict={X: train_X, Y:train_Y})\n",
    "            print(\"Epoch = {:04d} and cost = {:.9f}\".format(epoch+1, c))\n",
    "\n",
    "    # At the end of the training, print the cost and W and b\n",
    "    training_cost = sess.run(cost, feed_dict={X: train_X, Y: train_Y})\n",
    "    finalW = sess.run(W)\n",
    "    finalb = sess.run(b)\n",
    "    print(\"The final W = %0.4f and b = %0.4f\" %(finalW, finalb))\n",
    "    \n",
    "writer.close()"
   ]
  },
  {
   "cell_type": "markdown",
   "metadata": {},
   "source": [
    "## Opening tensorboard\n",
    "\n",
    "In the command line, type \"tensorboard --logdir=./logs\"\n",
    "This will launch a local webserver at port 6006. Visit http://localhost:6006 in a browser. Then click on the label 'Cost' to see the graph.  You can make the graph larger by clicking on the rectangular button at the bottom left corner of the graph. You can zoom in to the graph by drawing a box around the region to zoom in. You can zoom out by double clicking the graph.\n",
    "\n",
    "NOTE 1: Please make sure that you ran this code to completion and that the log folder exist. \n",
    "\n",
    "NOTE 2: Make sure that you are in the directory that has the logs folder when you execute the tensorboard command. \n",
    "\n",
    "On Windows, visiting http://localhost:6006 returns an error. Instead use the link provided by Tensorboard in the terminal. On the other hand, some people using Mac have experienced problem using the link provided by Tensorboard.  In such cases, use localhost:6006 instead. "
   ]
  },
  {
   "cell_type": "code",
   "execution_count": null,
   "metadata": {},
   "outputs": [],
   "source": []
  }
 ],
 "metadata": {
  "kernel_info": {
   "name": "python3"
  },
  "kernelspec": {
   "display_name": "Python 3",
   "language": "python",
   "name": "python3"
  },
  "language_info": {
   "codemirror_mode": {
    "name": "ipython",
    "version": 3
   },
   "file_extension": ".py",
   "mimetype": "text/x-python",
   "name": "python",
   "nbconvert_exporter": "python",
   "pygments_lexer": "ipython3",
   "version": "3.5.2"
  },
  "nteract": {
   "version": "0.8.4"
  },
  "widgets": {
   "state": {},
   "version": "1.1.2"
  }
 },
 "nbformat": 4,
 "nbformat_minor": 1
}
