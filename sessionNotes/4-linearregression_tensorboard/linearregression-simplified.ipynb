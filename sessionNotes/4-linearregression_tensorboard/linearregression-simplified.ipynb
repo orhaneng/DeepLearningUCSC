{
 "cells": [
  {
   "cell_type": "code",
   "execution_count": 2,
   "metadata": {},
   "outputs": [
    {
     "name": "stderr",
     "output_type": "stream",
     "text": [
      "/anaconda3/envs/tf-cpu/lib/python3.5/site-packages/requests/__init__.py:91: RequestsDependencyWarning: urllib3 (1.24.1) or chardet (3.0.4) doesn't match a supported version!\n  RequestsDependencyWarning)\n"
     ]
    }
   ],
   "source": [
    "import tensorflow as tf\n",
    "import pandas as pd\n",
    "import numpy as np\n",
    "import random\n",
    "import datetime"
   ]
  },
  {
   "cell_type": "markdown",
   "metadata": {},
   "source": [
    "## Reading Data"
   ]
  },
  {
   "cell_type": "code",
   "execution_count": 3,
   "metadata": {},
   "outputs": [
    {
     "name": "stdout",
     "output_type": "stream",
     "text": [
      "193.425879397 455.0 68.0 387.0\ncount    398.000000\nmean       1.934259\nstd        1.042698\nmin        0.680000\n25%        1.042500\n50%        1.485000\n75%        2.620000\nmax        4.550000\nName: displacement, dtype: float64\ncount    398.000000\nmean       0.235146\nstd        0.078160\nmin        0.090000\n25%        0.175000\n50%        0.230000\n75%        0.290000\nmax        0.466000\nName: mpg, dtype: float64\n"
     ]
    }
   ],
   "source": [
    "# https://archive.ics.uci.edu/ml/datasets/auto+mpg\n",
    "autompg = pd.read_csv('/Users/omerorhan/Desktop/UCSC/Deep Learning/DeepLearningUCSC/venv/homework/sessionNotes/4-linearregression_tensorboard/auto_mpg.csv')\n",
    "autompg_disp = autompg['displacement'].astype(float)\n",
    "autompg_mpg = autompg['mpg'].astype(float)\n",
    "mean_disp = np.mean(autompg_disp)\n",
    "min_disp = np.min(autompg_disp)\n",
    "max_disp = np.max(autompg_disp)\n",
    "print(mean_disp, max_disp, min_disp, max_disp-min_disp)\n",
    "autompg_disp = autompg_disp.apply(lambda x:x/100)\n",
    "print(autompg_disp.describe())\n",
    "autompg_mpg = autompg_mpg.apply(lambda x: x/100)\n",
    "print(autompg_mpg.describe())"
   ]
  },
  {
   "cell_type": "code",
   "execution_count": 4,
   "metadata": {},
   "outputs": [],
   "source": [
    "# A function to get a batch of data\n",
    "def getbatch(xval, yval, arraylength, batchsize=30):\n",
    "    count = 0 \n",
    "    while count < arraylength/batchsize:\n",
    "        randstart = random.randint(0, arraylength-batchsize-1)\n",
    "        count += 1\n",
    "        yield (xval[randstart:randstart+batchsize], yval[randstart:randstart+batchsize])\n",
    "\n",
    "# Test\n",
    "#for i in getbatch(train_X, train_Y, n_samples):\n",
    "#    print(i)"
   ]
  },
  {
   "cell_type": "markdown",
   "metadata": {},
   "source": [
    "## Setting hyper-parameters"
   ]
  },
  {
   "cell_type": "code",
   "execution_count": 5,
   "metadata": {},
   "outputs": [
    {
     "data": {
      "text/plain": [
       "398"
      ]
     },
     "execution_count": 5,
     "metadata": {},
     "output_type": "execute_result"
    }
   ],
   "source": [
    "learning_rate = 0.003\n",
    "n_epochs = 3000\n",
    "display_step = 100\n",
    "train_X = np.asarray(autompg_disp)\n",
    "train_Y = np.asarray(autompg_mpg)\n",
    "n_samples = train_X.shape[0]\n",
    "n_samples"
   ]
  },
  {
   "cell_type": "markdown",
   "metadata": {
    "inputHidden": false,
    "outputHidden": false
   },
   "source": [
    "## Defining X and Y as placeholders"
   ]
  },
  {
   "cell_type": "code",
   "execution_count": 6,
   "metadata": {},
   "outputs": [],
   "source": [
    "X = tf.placeholder(tf.float32)\n",
    "Y = tf.placeholder(tf.float32)"
   ]
  },
  {
   "cell_type": "markdown",
   "metadata": {},
   "source": [
    "## Initializing Weights and Biases"
   ]
  },
  {
   "cell_type": "code",
   "execution_count": 7,
   "metadata": {
    "inputHidden": false,
    "outputHidden": false
   },
   "outputs": [],
   "source": [
    "W = tf.Variable(np.random.randn())\n",
    "b = tf.Variable(np.random.randn())"
   ]
  },
  {
   "cell_type": "markdown",
   "metadata": {},
   "source": [
    "## Defining model"
   ]
  },
  {
   "cell_type": "code",
   "execution_count": 8,
   "metadata": {
    "inputHidden": false,
    "outputHidden": false
   },
   "outputs": [],
   "source": [
    "# predicted is X*W+b. \n",
    "pred = tf.add(tf.multiply(X, W), b)\n"
   ]
  },
  {
   "cell_type": "markdown",
   "metadata": {},
   "source": [
    "## Define cost, optimizer and accuracy"
   ]
  },
  {
   "cell_type": "code",
   "execution_count": 9,
   "metadata": {
    "inputHidden": false,
    "outputHidden": false
   },
   "outputs": [],
   "source": [
    "# The cost function is ((predicted-actual)^2)/2*n_samples. \n",
    "cost = tf.reduce_sum(tf.pow(pred-Y, 2))/(2*n_samples)\n",
    "\n",
    "optimizer = tf.train.GradientDescentOptimizer(learning_rate).minimize(cost)\n",
    "\n",
    "# Add all ops that need to be initialized\n",
    "# The initilization needs to be run only after session is created\n",
    "# as in session.run(init) below.\n",
    "init = tf.global_variables_initializer()"
   ]
  },
  {
   "cell_type": "markdown",
   "metadata": {},
   "source": [
    "## Running the session \n",
    "This will run the graph and use all the tensors that were previously defined"
   ]
  },
  {
   "cell_type": "code",
   "execution_count": 10,
   "metadata": {},
   "outputs": [
    {
     "name": "stdout",
     "output_type": "stream",
     "text": [
      "Epoch = 0100 and cost = 0.263719350\n"
     ]
    },
    {
     "name": "stdout",
     "output_type": "stream",
     "text": [
      "Epoch = 0200 and cost = 0.051861618\n"
     ]
    },
    {
     "name": "stdout",
     "output_type": "stream",
     "text": [
      "Epoch = 0300 and cost = 0.040924493\n"
     ]
    },
    {
     "name": "stdout",
     "output_type": "stream",
     "text": [
      "Epoch = 0400 and cost = 0.036337510\n"
     ]
    },
    {
     "name": "stdout",
     "output_type": "stream",
     "text": [
      "Epoch = 0500 and cost = 0.032362863\n"
     ]
    },
    {
     "name": "stdout",
     "output_type": "stream",
     "text": [
      "Epoch = 0600 and cost = 0.028852131\n"
     ]
    },
    {
     "name": "stdout",
     "output_type": "stream",
     "text": [
      "Epoch = 0700 and cost = 0.025717549\n"
     ]
    },
    {
     "name": "stdout",
     "output_type": "stream",
     "text": [
      "Epoch = 0800 and cost = 0.022969862\n"
     ]
    },
    {
     "name": "stdout",
     "output_type": "stream",
     "text": [
      "Epoch = 0900 and cost = 0.020502260\n"
     ]
    },
    {
     "name": "stdout",
     "output_type": "stream",
     "text": [
      "Epoch = 1000 and cost = 0.018280463\n"
     ]
    },
    {
     "name": "stdout",
     "output_type": "stream",
     "text": [
      "Epoch = 1100 and cost = 0.016323011\n"
     ]
    },
    {
     "name": "stdout",
     "output_type": "stream",
     "text": [
      "Epoch = 1200 and cost = 0.014611637\n"
     ]
    },
    {
     "name": "stdout",
     "output_type": "stream",
     "text": [
      "Epoch = 1300 and cost = 0.013084403\n"
     ]
    },
    {
     "name": "stdout",
     "output_type": "stream",
     "text": [
      "Epoch = 1400 and cost = 0.011729039\n"
     ]
    },
    {
     "name": "stdout",
     "output_type": "stream",
     "text": [
      "Epoch = 1500 and cost = 0.010528096\n"
     ]
    },
    {
     "name": "stdout",
     "output_type": "stream",
     "text": [
      "Epoch = 1600 and cost = 0.009479992\n"
     ]
    },
    {
     "name": "stdout",
     "output_type": "stream",
     "text": [
      "Epoch = 1700 and cost = 0.008537237\n"
     ]
    },
    {
     "name": "stdout",
     "output_type": "stream",
     "text": [
      "Epoch = 1800 and cost = 0.007696257\n"
     ]
    },
    {
     "name": "stdout",
     "output_type": "stream",
     "text": [
      "Epoch = 1900 and cost = 0.006958784\n"
     ]
    },
    {
     "name": "stdout",
     "output_type": "stream",
     "text": [
      "Epoch = 2000 and cost = 0.006301393\n"
     ]
    },
    {
     "name": "stdout",
     "output_type": "stream",
     "text": [
      "Epoch = 2100 and cost = 0.005713354\n"
     ]
    },
    {
     "name": "stdout",
     "output_type": "stream",
     "text": [
      "Epoch = 2200 and cost = 0.005189942\n"
     ]
    },
    {
     "name": "stdout",
     "output_type": "stream",
     "text": [
      "Epoch = 2300 and cost = 0.004723273\n"
     ]
    },
    {
     "name": "stdout",
     "output_type": "stream",
     "text": [
      "Epoch = 2400 and cost = 0.004313484\n"
     ]
    },
    {
     "name": "stdout",
     "output_type": "stream",
     "text": [
      "Epoch = 2500 and cost = 0.003941247\n"
     ]
    },
    {
     "name": "stdout",
     "output_type": "stream",
     "text": [
      "Epoch = 2600 and cost = 0.003619811\n"
     ]
    },
    {
     "name": "stdout",
     "output_type": "stream",
     "text": [
      "Epoch = 2700 and cost = 0.003330186\n"
     ]
    },
    {
     "name": "stdout",
     "output_type": "stream",
     "text": [
      "Epoch = 2800 and cost = 0.003076066\n"
     ]
    },
    {
     "name": "stdout",
     "output_type": "stream",
     "text": [
      "Epoch = 2900 and cost = 0.002854461\n"
     ]
    },
    {
     "name": "stdout",
     "output_type": "stream",
     "text": [
      "Epoch = 3000 and cost = 0.002653073\nThe final W = -0.0111 and b = 0.2336\n"
     ]
    }
   ],
   "source": [
    "with tf.Session() as sess:\n",
    "    sess.run(init)\n",
    "    for epoch in range(n_epochs):\n",
    "        for (x, y) in getbatch(train_X, train_Y, n_samples):\n",
    "            sess.run(optimizer, feed_dict={X: x, Y: y})\n",
    "        if (epoch+1) % display_step == 0:\n",
    "            c = sess.run(cost, feed_dict={X: train_X, Y:train_Y})\n",
    "            print(\"Epoch = {:04d} and cost = {:.9f}\".format(epoch+1, c))\n",
    "\n",
    "    training_cost = sess.run(cost, feed_dict={X: train_X, Y: train_Y})\n",
    "    finalW = sess.run(W)\n",
    "    finalb = sess.run(b)\n",
    "    print(\"The final W = %0.4f and b = %0.4f\" %(finalW, finalb))"
   ]
  }
 ],
 "metadata": {
  "kernel_info": {
   "name": "python3"
  },
  "kernelspec": {
   "display_name": "Python 3",
   "language": "python",
   "name": "python3"
  },
  "language_info": {
   "codemirror_mode": {
    "name": "ipython",
    "version": 3
   },
   "file_extension": ".py",
   "mimetype": "text/x-python",
   "name": "python",
   "nbconvert_exporter": "python",
   "pygments_lexer": "ipython3",
   "version": "3.5.2"
  },
  "nteract": {
   "version": "0.8.4"
  },
  "widgets": {
   "state": {},
   "version": "1.1.2"
  }
 },
 "nbformat": 4,
 "nbformat_minor": 1
}
