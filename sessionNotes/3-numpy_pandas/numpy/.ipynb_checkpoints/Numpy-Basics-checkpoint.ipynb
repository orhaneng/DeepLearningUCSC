{
 "cells": [
  {
   "cell_type": "code",
   "execution_count": null,
   "metadata": {},
   "outputs": [],
   "source": []
  },
  {
   "cell_type": "code",
   "execution_count": 1,
   "metadata": {},
   "outputs": [],
   "source": [
    "# http://people.duke.edu/~ccc14/pcfb/numpympl/NumpyBasics.html\n",
    "# https://docs.scipy.org/doc/numpy-dev/user/quickstart.html\n",
    "# http://www.engr.ucsb.edu/~shell/che210d/numpy.pdf\n",
    "# http://www.labri.fr/perso/nrougier/teaching/numpy/numpy.html\n",
    "# http://www.labri.fr/perso/nrougier/teaching/numpy.100/\n",
    "\n",
    "# NUMPY TO MATLAB - https://docs.scipy.org/doc/numpy-dev/user/numpy-for-matlab-users.html"
   ]
  },
  {
   "cell_type": "code",
   "execution_count": 2,
   "metadata": {},
   "outputs": [],
   "source": [
    "import numpy as np"
   ]
  },
  {
   "cell_type": "markdown",
   "metadata": {},
   "source": [
    "## NDARRAY\n",
    "An ndaray is a n-dimensional array where all items are of the same type (unlike a Python data structure) and consequently use the same amount of space. There are 21 different types of objects (also called dtypes) that can be stored in ndarray. They are\n",
    "* bool_ \n",
    "* byte\n",
    "* short\n",
    "* intc\n",
    "* int_\n",
    "* longlong\n",
    "* intp\n",
    "* ubyte\n",
    "* ushort\n",
    "* uintc\n",
    "* uint\n",
    "* ulonglong\n",
    "* uintp\n",
    "* single\n",
    "* float_\n",
    "* longfloat\n",
    "* csingl\n",
    "* complex_\n",
    "* clongfloat\n",
    "* object_\n",
    "* str_\n",
    "* unicode_\n",
    "* void\n",
    "\n",
    "For some of the dtypes, a _ to differentiate that dtype from the corresponding Python type. Such types are also called as 'enhanced scalars).  They have the same precision as the Python type.\n",
    "\n",
    "All the types except the str_, unicode_ and void are of fixed size. "
   ]
  },
  {
   "cell_type": "code",
   "execution_count": 6,
   "metadata": {},
   "outputs": [
    {
     "name": "stdout",
     "output_type": "stream",
     "text": [
      "[0 1 2 3 4 5 6 7 8 9] <class 'numpy.ndarray'>\n"
     ]
    }
   ],
   "source": [
    "# Creating a simple ndarray\n",
    "a = np.arange(10) # similar to range(8)\n",
    "print(a, type(a))\n"
   ]
  },
  {
   "cell_type": "code",
   "execution_count": 7,
   "metadata": {},
   "outputs": [
    {
     "name": "stdout",
     "output_type": "stream",
     "text": [
      "3 <class 'numpy.int64'>\n",
      "[1 2 3 4] <class 'numpy.ndarray'>\n"
     ]
    }
   ],
   "source": [
    "# Indexing\n",
    "print(a[3], type(a[3])) # since there is only one value, its type is the type of each element\n",
    "print(a[1:5], type(a[2:5])) # The slicing results in an ndarray"
   ]
  },
  {
   "cell_type": "code",
   "execution_count": 8,
   "metadata": {},
   "outputs": [
    {
     "name": "stdout",
     "output_type": "stream",
     "text": [
      "[ 0.          0.84147098  0.90929743  0.14112001 -0.7568025  -0.95892427\n",
      " -0.2794155   0.6569866   0.98935825  0.41211849]\n",
      "[ 0.          1.84147098  2.90929743  3.14112001  3.2431975   4.04107573\n",
      "  5.7205845   7.6569866   8.98935825  9.41211849]\n"
     ]
    }
   ],
   "source": [
    "# Universal functions or ufunc\n",
    "# They perform element by element operation on an ndarray.\n",
    "b = np.sin(a)\n",
    "print(b)\n",
    "\n",
    "c = np.add(a, b)\n",
    "print(c)\n",
    "\n",
    "# For a full list of ufunc, visit \n",
    "# http://docs.scipy.org/doc/numpy/reference/ufuncs.html"
   ]
  },
  {
   "cell_type": "code",
   "execution_count": 9,
   "metadata": {},
   "outputs": [
    {
     "name": "stdout",
     "output_type": "stream",
     "text": [
      "[ 3  4  5  6  7  8  9 10 11 12]\n"
     ]
    }
   ],
   "source": [
    "# In the case of add function, a and b both had same sized vector.\n",
    "# What happens if they are of different sizes as in the example below\n",
    "d = np.add(a, 3)\n",
    "print(d)\n",
    "\n",
    "# The meaning of adding a which is a vector to a scalar 3 is done by \n",
    "# adding each element in a with the value 3. In otherwords, the value 3\n",
    "# was 'broadcast' to each element in a and added."
   ]
  },
  {
   "cell_type": "code",
   "execution_count": 10,
   "metadata": {},
   "outputs": [
    {
     "name": "stdout",
     "output_type": "stream",
     "text": [
      "Shape is:  (10,)\n",
      "Number of dimensions are:  1\n",
      "Data type:  float64\n",
      "Itemsize:  8\n",
      "type:  <class 'numpy.ndarray'>\n",
      "dir:  ['__bool__', '__class__', '__delattr__', '__dir__', '__doc__', '__eq__', '__format__', '__ge__', '__getattribute__', '__getitem__', '__gt__', '__hash__', '__init__', '__le__', '__len__', '__lt__', '__mul__', '__ne__', '__new__', '__reduce__', '__reduce_ex__', '__repr__', '__rmul__', '__setattr__', '__setstate__', '__sizeof__', '__str__', '__subclasshook__', 'alignment', 'base', 'byteorder', 'char', 'descr', 'fields', 'flags', 'hasobject', 'isalignedstruct', 'isbuiltin', 'isnative', 'itemsize', 'kind', 'metadata', 'name', 'names', 'ndim', 'newbyteorder', 'num', 'shape', 'str', 'subdtype', 'type']\n"
     ]
    }
   ],
   "source": [
    "# NDARRAY attributes\n",
    "\n",
    "print(\"Shape is: \", b.shape) # Size of the matrix\n",
    "print(\"Number of dimensions are: \", b.ndim) # Number of dimensions\n",
    "print(\"Data type: \", b.dtype) # Data type of each element\n",
    "print(\"Itemsize: \", b.itemsize) # Memory occupied by each element\n",
    "print(\"type: \", type(b))  # Type of b\n",
    "print(\"dir: \", dir(b.dtype))"
   ]
  },
  {
   "cell_type": "markdown",
   "metadata": {},
   "source": [
    "### ARRAY CONVERSION"
   ]
  },
  {
   "cell_type": "code",
   "execution_count": 19,
   "metadata": {},
   "outputs": [
    {
     "name": "stdout",
     "output_type": "stream",
     "text": [
      "[0.0, 0.8414709848078965, 0.9092974268256817, 0.1411200080598672, -0.7568024953079282, -0.9589242746631385, -0.27941549819892586, 0.6569865987187891, 0.9893582466233818, 0.4121184852417566]\n"
     ]
    }
   ],
   "source": [
    "print(b.tolist()) # convert ndarray b to list"
   ]
  },
  {
   "cell_type": "code",
   "execution_count": 20,
   "metadata": {},
   "outputs": [],
   "source": [
    "# Write the vector b to a csv file with 3 precision\n",
    "b.tofile(file=\"data.csv\", sep=\",\", format=\"%0.3f\")"
   ]
  },
  {
   "cell_type": "code",
   "execution_count": 21,
   "metadata": {},
   "outputs": [],
   "source": [
    "b.dump('data.pickle') # Write to pickle file"
   ]
  },
  {
   "cell_type": "code",
   "execution_count": 11,
   "metadata": {
    "inputHidden": false,
    "outputHidden": false
   },
   "outputs": [
    {
     "name": "stdout",
     "output_type": "stream",
     "text": [
      "[ 0.  1.  2.  3.  4.  5.  6.  7.  8.  9.] [ 0.          0.84147098  0.90929743  0.14112001 -0.7568025  -0.95892427\n",
      " -0.2794155   0.6569866   0.98935825  0.41211849]\n"
     ]
    }
   ],
   "source": [
    "np.save('b.npy', [a, b])\n",
    "# Read more about npy format at https://docs.scipy.org/doc/numpy/neps/npy-format.html\n",
    "c1, d1 = np.load('b.npy')\n",
    "print(c1, d1)"
   ]
  },
  {
   "cell_type": "markdown",
   "metadata": {},
   "source": [
    "### ARRAY SHAPE "
   ]
  },
  {
   "cell_type": "code",
   "execution_count": 18,
   "metadata": {},
   "outputs": [
    {
     "name": "stdout",
     "output_type": "stream",
     "text": [
      "[[0 2 4 6]\n",
      " [1 3 5 7]]\n"
     ]
    }
   ],
   "source": [
    "a = np.arange(8)\n",
    "b = a.reshape((2, 4), order='C') # Change the matrix to size 2x4\n",
    "b = a.reshape((2, 4), order='F')\n",
    "\n",
    "print(b)"
   ]
  },
  {
   "cell_type": "code",
   "execution_count": null,
   "metadata": {},
   "outputs": [],
   "source": []
  },
  {
   "cell_type": "code",
   "execution_count": 27,
   "metadata": {},
   "outputs": [
    {
     "name": "stdout",
     "output_type": "stream",
     "text": [
      "None\n",
      "[[0 1]\n",
      " [2 3]\n",
      " [4 5]\n",
      " [6 7]]\n"
     ]
    }
   ],
   "source": [
    "c = a.resize((4, 2))\n",
    "print(c) # None as resize modifies inplace while reshape creates a new array\n",
    "print(a)"
   ]
  },
  {
   "cell_type": "code",
   "execution_count": 28,
   "metadata": {},
   "outputs": [
    {
     "name": "stdout",
     "output_type": "stream",
     "text": [
      "[0 1 2 3 4 5 6 7]\n",
      "[6 1 2 3 4 5 6 7]\n",
      "[[0 1 2 3]\n",
      " [4 5 6 7]]\n"
     ]
    }
   ],
   "source": [
    "a = np.arange(8).reshape((2, 4), order='C' )\n",
    "flat_a = a.flatten()\n",
    "print(flat_a) # Convert to 1D vector\n",
    "flat_a[0]= 6\n",
    "print(flat_a)\n",
    "print(a) \n",
    "# Since flat_a is a new copy, any change to flat_a does not affect a"
   ]
  },
  {
   "cell_type": "code",
   "execution_count": 19,
   "metadata": {},
   "outputs": [
    {
     "name": "stdout",
     "output_type": "stream",
     "text": [
      "[0 1 2 3 4 5 6 7]\n",
      "[6 1 2 3 4 5 6 7]\n",
      "[[6 1 2 3]\n",
      " [4 5 6 7]]\n"
     ]
    }
   ],
   "source": [
    "a = np.arange(8).reshape((2, 4), order='C' )\n",
    "ravel_a = a.ravel() # Convert to 1D vector\n",
    "print(ravel_a)\n",
    "ravel_a[0]= 6\n",
    "print(ravel_a)\n",
    "print(a)\n",
    "# Since ravel_a is NOT a copy, any change to ravel_a affects a"
   ]
  },
  {
   "cell_type": "code",
   "execution_count": 30,
   "metadata": {},
   "outputs": [
    {
     "name": "stdout",
     "output_type": "stream",
     "text": [
      "[[4 1 2 3]\n",
      " [4 5 6 7]]\n",
      "[[4 1 2 3]\n",
      " [4 5 6 7]]\n"
     ]
    }
   ],
   "source": [
    "# Shallow copy\n",
    "d = a\n",
    "a[0][0] = 4\n",
    "print(a)\n",
    "print(d) # Note d and a will have same values even though we modified only a"
   ]
  },
  {
   "cell_type": "code",
   "execution_count": 31,
   "metadata": {},
   "outputs": [
    {
     "name": "stdout",
     "output_type": "stream",
     "text": [
      "[[3 1 2 3]\n",
      " [4 5 6 7]]\n",
      "[[4 1 2 3]\n",
      " [4 5 6 7]]\n"
     ]
    }
   ],
   "source": [
    "# Deep copy\n",
    "d = a.copy()\n",
    "a[0][0] = 3\n",
    "print(a)\n",
    "print(d) # Note d and a will have different values"
   ]
  },
  {
   "cell_type": "code",
   "execution_count": 76,
   "metadata": {},
   "outputs": [
    {
     "name": "stdout",
     "output_type": "stream",
     "text": [
      "[12 46 20 10 26] [22]\n",
      "[12 46 20 10 26 22]\n"
     ]
    }
   ],
   "source": [
    "# INCLASS ACTIVITY\n",
    "'''\n",
    "A power ball needs a list of 6 numbers. The first 5 numbers have value between 1 and 59.\n",
    "The last number also called power ball number will be between 1 and 35. \n",
    "Write a Python program to create this list with 6 numbers. Modify the code\n",
    "so that it is seeded by the current date. \n",
    "'''\n",
    "\n",
    "mainno = np.random.rand(5,)*58\n",
    "mainno = mainno.astype(np.int)\n",
    "\n",
    "powerballno = 1+np.random.rand(1,)*35\n",
    "powerballno = powerballno.astype(np.int)\n",
    "print(mainno,powerballno)\n",
    "allno = np.concatenate([mainno,powerballno])\n",
    "print(allno)"
   ]
  },
  {
   "cell_type": "code",
   "execution_count": 64,
   "metadata": {},
   "outputs": [
    {
     "name": "stdout",
     "output_type": "stream",
     "text": [
      "[ 9 25  1 34 38  3]\n"
     ]
    }
   ],
   "source": [
    "'''\n",
    "A power ball needs a list of 6 numbers. The first 5 numbers have value between 1 and 59.\n",
    "The last number also called power ball number will be between 1 and 35. \n",
    "Write a Python program to create this list with 6 numbers. Modify the code\n",
    "so that it is seeded by the current date. \n",
    "'''\n",
    "import random\n",
    "from datetime import datetime\n",
    "random.seed(datetime.today().day)\n",
    "\n",
    "mainno = np.random.rand(5,)*58\n",
    "mainno = mainno.astype(np.int)\n",
    "\n",
    "powerball = 1+np.random.rand(1,)*35\n",
    "powerball = powerball.astype(np.int)\n",
    "allno = np.concatenate([mainno, powerball])\n",
    "print(allno)"
   ]
  },
  {
   "cell_type": "markdown",
   "metadata": {},
   "source": [
    "## ARRAY MANIPULATION"
   ]
  },
  {
   "cell_type": "code",
   "execution_count": 79,
   "metadata": {},
   "outputs": [
    {
     "name": "stdout",
     "output_type": "stream",
     "text": [
      "[[ 0.54276925  0.34794731  0.66112652  0.78535076]\n",
      " [ 0.01673111  0.6742457   0.30099448  0.5363158 ]]\n",
      "[[ 0.34794731  0.54276925  0.66112652  0.78535076]\n",
      " [ 0.01673111  0.30099448  0.5363158   0.6742457 ]]\n"
     ]
    }
   ],
   "source": [
    "import numpy as np\n",
    "a = np.random.rand(2, 4)\n",
    "print(a)\n",
    "a.sort() # sort(axis=-1, kind=’quick’, order=None)\n",
    "print(a)"
   ]
  },
  {
   "cell_type": "code",
   "execution_count": 96,
   "metadata": {},
   "outputs": [
    {
     "name": "stdout",
     "output_type": "stream",
     "text": [
      "[[0 1 0 0]\n",
      " [0 1 1 1]] int64\n",
      "(array([0, 1, 1, 1]), array([1, 1, 2, 3]))\n"
     ]
    }
   ],
   "source": [
    "a = np.random.rand(2, 4)*2\n",
    "a = a.astype(np.int)\n",
    "print(a, a.dtype)\n",
    "print(a.nonzero())"
   ]
  },
  {
   "cell_type": "markdown",
   "metadata": {},
   "source": [
    "### ARRAY CALCULATIONS"
   ]
  },
  {
   "cell_type": "code",
   "execution_count": 97,
   "metadata": {},
   "outputs": [
    {
     "name": "stdout",
     "output_type": "stream",
     "text": [
      "[[2 0]\n",
      " [4 0]]\n",
      "Any element is True\n",
      "Sum of all elements is 6\n",
      "The product of all element is 0\n",
      "The max of all element is 4\n"
     ]
    }
   ],
   "source": [
    "import numpy as np\n",
    "a = np.random.rand(2, 2)*5\n",
    "b = a.astype('int')\n",
    "print(b)\n",
    "print('Any element is {0}'.format(b.any()))\n",
    "print('Sum of all elements is {0}'.format(b.sum()))\n",
    "print('The product of all element is {0}'.format(b.prod()))\n",
    "print('The max of all element is {0}'.format(b.max()))"
   ]
  },
  {
   "cell_type": "markdown",
   "metadata": {},
   "source": [
    "### ARRAY INDEXING"
   ]
  },
  {
   "cell_type": "code",
   "execution_count": 98,
   "metadata": {},
   "outputs": [
    {
     "name": "stdout",
     "output_type": "stream",
     "text": [
      "[[3 0 0 3 3 4 4 3 4 0]\n",
      " [2 0 4 2 0 3 0 3 2 0]\n",
      " [3 1 2 1 2 0 2 3 3 3]\n",
      " [2 4 2 3 0 2 2 3 0 1]\n",
      " [2 3 1 3 3 0 4 3 2 0]\n",
      " [0 1 2 3 0 1 4 3 2 2]\n",
      " [1 1 0 3 3 2 4 4 3 0]\n",
      " [2 1 3 4 3 4 2 3 2 0]\n",
      " [1 4 0 3 2 2 4 1 0 3]\n",
      " [2 0 0 4 1 4 3 4 4 0]]\n",
      "The rows=1 and cols=2 element is 4\n",
      "The first col is [3 2 3 2 2 0 1 2 1 2]\n",
      "The third row is [3 1 2 1 2 0 2 3 3 3]\n"
     ]
    }
   ],
   "source": [
    "# Basic slicing\n",
    "import numpy as np\n",
    "a = np.random.rand(10, 10)*5\n",
    "b = a.astype('int')\n",
    "print(b)\n",
    "print('The rows=1 and cols=2 element is {0}'.format(b[1,2])) \n",
    "print('The first col is {0}'.format(b[:,0])) # rows, cols. all rows for cols=0\n",
    "print('The third row is {0}'.format(b[2, :])) # all cols for rows = 2"
   ]
  },
  {
   "cell_type": "markdown",
   "metadata": {
    "collapsed": true
   },
   "source": [
    "### ROUTINES"
   ]
  },
  {
   "cell_type": "code",
   "execution_count": 105,
   "metadata": {},
   "outputs": [
    {
     "name": "stdout",
     "output_type": "stream",
     "text": [
      "[ 4.  5.  6.] <class 'numpy.ndarray'> float32\n"
     ]
    }
   ],
   "source": [
    "# array(object=, dtype=None, copy=True, order=None, subok=False, ndmin=0)\n",
    "# Convert any object to a ndarray. If copy is set to True, then a new copy is made.\n",
    "# Convert a Python list or tuple to numpy array\n",
    "import numpy as np\n",
    "\n",
    "c = np.array((4, 5, 6), dtype=np.float32) # Change this to int and see the output\n",
    "print(c, type(c), c.dtype)\n",
    "\n",
    "# There is another method called 'asarray' which is same as 'array' except\n",
    "# that the copy defaults to False."
   ]
  },
  {
   "cell_type": "code",
   "execution_count": 106,
   "metadata": {},
   "outputs": [
    {
     "name": "stdout",
     "output_type": "stream",
     "text": [
      "[ 10.  12.  14.  16.  18.]\n"
     ]
    }
   ],
   "source": [
    "# Will create a linear list of values starting from 'start' and ends at 'stop-1'\n",
    "# in steps of 'step'\n",
    "d = np.arange(start=10, stop=20, step=2, dtype=np.float32)\n",
    "print(d)"
   ]
  },
  {
   "cell_type": "code",
   "execution_count": 108,
   "metadata": {},
   "outputs": [
    {
     "name": "stdout",
     "output_type": "stream",
     "text": [
      "[[0 0 0 0]\n",
      " [0 0 0 0]\n",
      " [0 0 0 0]]\n",
      "8 int64\n"
     ]
    }
   ],
   "source": [
    "d = np.zeros(shape=(3, 4), dtype=np.int64)\n",
    "print(d)\n",
    "print(d.itemsize, d.dtype)"
   ]
  },
  {
   "cell_type": "code",
   "execution_count": 109,
   "metadata": {},
   "outputs": [
    {
     "name": "stdout",
     "output_type": "stream",
     "text": [
      "[[1 1 1]\n",
      " [1 1 1]\n",
      " [1 1 1]]\n"
     ]
    }
   ],
   "source": [
    "e = np.ones(shape=(3, 3), dtype=np.int32)\n",
    "print(e) #"
   ]
  },
  {
   "cell_type": "code",
   "execution_count": 110,
   "metadata": {},
   "outputs": [
    {
     "name": "stdout",
     "output_type": "stream",
     "text": [
      "[[1 0 0]\n",
      " [0 1 0]\n",
      " [0 0 1]]\n"
     ]
    }
   ],
   "source": [
    "f = np.identity(n=3, dtype=np.int32)\n",
    "print(f)"
   ]
  },
  {
   "cell_type": "code",
   "execution_count": 134,
   "metadata": {},
   "outputs": [
    {
     "name": "stdout",
     "output_type": "stream",
     "text": [
      "[[ 1.94444417  1.75173797  4.51219478]\n",
      " [ 3.63695913  0.64913783  0.93919153]\n",
      " [ 4.3463223   1.30952849  3.15481494]]\n",
      "(array([0, 1, 2, 2]), array([2, 0, 0, 2]))\n"
     ]
    }
   ],
   "source": [
    "g = np.random.rand(3, 3)*5\n",
    "print(g)\n",
    "print(np.where(g>2)) # Returns the x, y coordinates"
   ]
  },
  {
   "cell_type": "code",
   "execution_count": 80,
   "metadata": {},
   "outputs": [
    {
     "data": {
      "text/plain": [
       "array([[10,  0,  0,  0],\n",
       "       [10, 11,  1,  1],\n",
       "       [10, 11, 12,  2]])"
      ]
     },
     "execution_count": 80,
     "metadata": {},
     "output_type": "execute_result"
    }
   ],
   "source": [
    "x, y = np.ogrid[:3, :4]\n",
    "x, y\n",
    "np.where(x < y, x, 10 + y)"
   ]
  },
  {
   "cell_type": "code",
   "execution_count": null,
   "metadata": {},
   "outputs": [],
   "source": []
  },
  {
   "cell_type": "code",
   "execution_count": 158,
   "metadata": {},
   "outputs": [
    {
     "name": "stdout",
     "output_type": "stream",
     "text": [
      "[[39 33 39 ..., 90 73  1]\n",
      " [63 23 92 ..., 30 81  6]\n",
      " [79 29 98 ..., 75 54 42]\n",
      " ..., \n",
      " [ 9 66  5 ..., 63 82 72]\n",
      " [83 27 66 ..., 71 69 22]\n",
      " [56 21 70 ..., 64 78 48]]\n",
      "The histogram is (array([ 952, 1012,  980, 1036, 1035,  982, 1011, 1054,  964,  974]), array([  0. ,   9.9,  19.8,  29.7,  39.6,  49.5,  59.4,  69.3,  79.2,\n",
      "        89.1,  99. ]))\n"
     ]
    }
   ],
   "source": [
    "m = np.random.rand(100, 100)*100\n",
    "m = m.astype('int')\n",
    "print(m)\n",
    "print('The histogram is {0}'.format(np.histogram(m)))\n",
    "# The first array is the frequency and the second array is the bin"
   ]
  },
  {
   "cell_type": "code",
   "execution_count": 145,
   "metadata": {},
   "outputs": [
    {
     "name": "stdout",
     "output_type": "stream",
     "text": [
      "The linear space of value is [  1.           3.11111111   5.22222222   7.33333333   9.44444444\n",
      "  11.55555556  13.66666667  15.77777778  17.88888889  20.        ]\n",
      "The log space of value is [ 1.25892541  1.29154967  1.32501936  1.35935639  1.39458325  1.43072299\n",
      "  1.46779927  1.50583635  1.54485915  1.58489319]\n"
     ]
    }
   ],
   "source": [
    "# Create 10 numbers between 1 and 20\n",
    "p = np.linspace(start = 1, stop = 20, num=10)\n",
    "print('The linear space of value is {0}'.format(p))\n",
    "\n",
    "p = np.logspace(start = 0.1, stop = 0.2, num=10)\n",
    "print('The log space of value is {0}'.format(p))\n",
    "\n"
   ]
  },
  {
   "cell_type": "markdown",
   "metadata": {},
   "source": [
    "### OPERATIONS"
   ]
  },
  {
   "cell_type": "code",
   "execution_count": 146,
   "metadata": {},
   "outputs": [
    {
     "name": "stdout",
     "output_type": "stream",
     "text": [
      "[ 4.  5.  6.]\n",
      "[ 10.   11.5  13. ]\n",
      "[ 6.   6.5  7. ] float64\n"
     ]
    }
   ],
   "source": [
    "import numpy as np\n",
    "\n",
    "c = np.array((4, 5, 6), dtype=np.float32)\n",
    "d = np.linspace(start=10, stop=13, num=3)\n",
    "print(c)\n",
    "print(d)\n",
    "f = d-c # Subtract matrix\n",
    "print(f, f.dtype)"
   ]
  },
  {
   "cell_type": "code",
   "execution_count": 147,
   "metadata": {},
   "outputs": [
    {
     "name": "stdout",
     "output_type": "stream",
     "text": [
      "[ 40.  50.  60.] float32\n"
     ]
    }
   ],
   "source": [
    "f = 10*c \n",
    "# Multiply a matrix with scalar. The matrix e is of dtype=int64 but the final matrix is of dtype=float64\n",
    "print(f, f.dtype)"
   ]
  },
  {
   "cell_type": "code",
   "execution_count": 64,
   "metadata": {},
   "outputs": [
    {
     "name": "stdout",
     "output_type": "stream",
     "text": [
      "[False False  True]\n"
     ]
    }
   ],
   "source": [
    "h = f > 50 # Compare every element with the value of 0.5\n",
    "print(h)"
   ]
  },
  {
   "cell_type": "code",
   "execution_count": 148,
   "metadata": {},
   "outputs": [
    {
     "name": "stdout",
     "output_type": "stream",
     "text": [
      "[False False  True]\n",
      "[ 60.]\n",
      "[ 60.]\n"
     ]
    }
   ],
   "source": [
    "# Indexing with boolean arrays\n",
    "k = f > 50\n",
    "print(k)\n",
    "print(f[k]) # Returns values in p that are True in t\n",
    "print(f[f>50]) # This is same as the previous line except that we are not creating a new array t"
   ]
  },
  {
   "cell_type": "markdown",
   "metadata": {},
   "source": [
    "#### Calculate value of pi using Gregory-Leibniz series\n",
    "$$ 1\\,-\\,{\\frac {1}{3}}\\,+\\,{\\frac {1}{5}}\\,-\\,{\\frac {1}{7}}\\,+\\,{\\frac {1}{9}}\\,-\\,\\cdots \\;=\\;{\\frac {\\pi }{4}}.\\! $$"
   ]
  },
  {
   "cell_type": "code",
   "execution_count": 154,
   "metadata": {},
   "outputs": [
    {
     "name": "stdout",
     "output_type": "stream",
     "text": [
      "numerator is: [[ 1. -1.  1. ..., -1.  1. -1.]] \n",
      "denominator is:  [  1.00000000e+00   3.00000000e+00   5.00000000e+00 ...,   1.99995000e+05\n",
      "   1.99997000e+05   1.99999000e+05]\n",
      "The value of pi is 3.141582653589792\n"
     ]
    }
   ],
   "source": [
    "noofterms = 100000\n",
    "\n",
    "# Create numerator array\n",
    "numerator = np.ones(shape=(1, noofterms))\n",
    "# Change alternate values from +1 to -1\n",
    "numerator[0, 1::2] = -1\n",
    "print(\"numerator is: {0} \".format(numerator))\n",
    "# Denominator = 1, 3, 5, 7 ...\n",
    "\n",
    "# Sum all terms and multiply by 4\n",
    "denominator = np.linspace(1, noofterms*2-1, noofterms)\n",
    "print('denominator is: ', denominator)\n",
    "pival = 4.0*np.sum(numerator/denominator)\n",
    "print('The value of pi is {0}'.format(pival))"
   ]
  },
  {
   "cell_type": "code",
   "execution_count": 81,
   "metadata": {},
   "outputs": [
    {
     "name": "stdout",
     "output_type": "stream",
     "text": [
      "16\n",
      "25\n",
      "36\n"
     ]
    }
   ],
   "source": [
    "#generator\n",
    "def squared(i):\n",
    "    for item in i:\n",
    "        yield item*item\n",
    "        \n",
    "for v in squared([4,5,6]):\n",
    "    print(v)"
   ]
  },
  {
   "cell_type": "code",
   "execution_count": null,
   "metadata": {},
   "outputs": [],
   "source": []
  }
 ],
 "metadata": {
  "kernel_info": {
   "name": "python3"
  },
  "kernelspec": {
   "display_name": "Python 3",
   "language": "python",
   "name": "python3"
  },
  "language_info": {
   "codemirror_mode": {
    "name": "ipython",
    "version": 3
   },
   "file_extension": ".py",
   "mimetype": "text/x-python",
   "name": "python",
   "nbconvert_exporter": "python",
   "pygments_lexer": "ipython3",
   "version": "3.5.2"
  },
  "nteract": {
   "version": "0.7.1"
  },
  "widgets": {
   "state": {},
   "version": "1.1.2"
  }
 },
 "nbformat": 4,
 "nbformat_minor": 1
}
