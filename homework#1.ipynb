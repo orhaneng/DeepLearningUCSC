{
 "cells": [
  {
   "cell_type": "code",
   "execution_count": 2,
   "metadata": {
    "collapsed": true
   },
   "outputs": [
    {
     "data": {
      "text/plain": [
       "'\\n1. Download the Python CIFAR-10 dataset from https://www.cs.toronto.edu/~kriz/cifar.html. \\nThis data set contains all the CIFAR-10 images stored as a series of pickle files. \\n2. Use the code provided in the link to read the pickle file and extract the data and label. \\nThe data contains the images and the labels in the range 0-9. The link explains the relationship\\n between label and the objects in the image.\\n3. Append all the data and label together.\\n4. Visualize the distribution of labels by plotting a histogram. Explain what you observe?\\n5. Write a generator function getbatch() that will return a batch of x and y as a tuple. \\nThe function must have the signature getbatch(alldata, alllabels, batch_size = 16). \\nIt must yield a tuple with a numpy array of x (the images) and a numpy array of y (the label). \\nThe size of each element in x must be [batchsize, noofchannels, width, height]\\n\\n'"
      ]
     },
     "execution_count": 2,
     "metadata": {},
     "output_type": "execute_result"
    }
   ],
   "source": [
    "\"\"\"\n",
    "1. Download the Python CIFAR-10 dataset from https://www.cs.toronto.edu/~kriz/cifar.html. \n",
    "This data set contains all the CIFAR-10 images stored as a series of pickle files. \n",
    "2. Use the code provided in the link to read the pickle file and extract the data and label. \n",
    "The data contains the images and the labels in the range 0-9. The link explains the relationship\n",
    " between label and the objects in the image.\n",
    "3. Append all the data and label together.\n",
    "4. Visualize the distribution of labels by plotting a histogram. Explain what you observe?\n",
    "5. Write a generator function getbatch() that will return a batch of x and y as a tuple. \n",
    "The function must have the signature getbatch(alldata, alllabels, batch_size = 16). \n",
    "It must yield a tuple with a numpy array of x (the images) and a numpy array of y (the label). \n",
    "The size of each element in x must be [batchsize, noofchannels, width, height]\n",
    "\n",
    "\"\"\""
   ]
  },
  {
   "cell_type": "code",
   "execution_count": 8,
   "metadata": {
    "collapsed": true
   },
   "outputs": [
    {
     "name": "stdout",
     "output_type": "stream",
     "text": [
      "['/Users/omerorhan/Desktop/UCSC/Deep Learning/cifar-10-batches-py/data_batch_1', '/Users/omerorhan/Desktop/UCSC/Deep Learning/cifar-10-batches-py/data_batch_2', '/Users/omerorhan/Desktop/UCSC/Deep Learning/cifar-10-batches-py/data_batch_5', '/Users/omerorhan/Desktop/UCSC/Deep Learning/cifar-10-batches-py/data_batch_4', '/Users/omerorhan/Desktop/UCSC/Deep Learning/cifar-10-batches-py/data_batch_3']\n"
     ]
    },
    {
     "data": {
      "text/plain": [
       "dict_keys([b'filenames', b'labels', b'batch_label', b'data'])"
      ]
     },
     "execution_count": 8,
     "metadata": {},
     "output_type": "execute_result"
    }
   ],
   "source": [
    "import pickle\n",
    "import glob\n",
    "\n",
    "def unpickle(file):\n",
    "    with open(file, 'rb') as fo:\n",
    "        dict = pickle.load(fo, encoding='bytes')\n",
    "    return dict\n",
    "\n",
    "\n",
    "files = glob.glob(\"/Users/omerorhan/Desktop/UCSC/Deep Learning/cifar-10-batches-py/data_batch*\") #reading JSON files from folder\n",
    "\n",
    "batchfiles = {}\n",
    "for file in files:\n",
    "    batchfiles.update(unpickle(file))\n",
    "    \n",
    "labels = batchfiles.get(b'batch_label')\n",
    "data =  batchfiles.get(b'data')\n",
    "batchfiles.keys()"
   ]
  }
 ],
 "metadata": {
  "kernelspec": {
   "display_name": "Python 2",
   "language": "python",
   "name": "python2"
  },
  "language_info": {
   "codemirror_mode": {
    "name": "ipython",
    "version": 2
   },
   "file_extension": ".py",
   "mimetype": "text/x-python",
   "name": "python",
   "nbconvert_exporter": "python",
   "pygments_lexer": "ipython2",
   "version": "2.7.6"
  }
 },
 "nbformat": 4,
 "nbformat_minor": 0
}
