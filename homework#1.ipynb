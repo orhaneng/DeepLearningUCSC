{
 "cells": [
  {
   "cell_type": "code",
   "execution_count": 118,
   "metadata": {
    "collapsed": true
   },
   "outputs": [
    {
     "data": {
      "text/plain": [
       "'\\n1. Download the Python CIFAR-10 dataset from https://www.cs.toronto.edu/~kriz/cifar.html. \\nThis data set contains all the CIFAR-10 images stored as a series of pickle files. \\n2. Use the code provided in the link to read the pickle file and extract the data and label. \\nThe data contains the images and the labels in the range 0-9. The link explains the relationship\\n between label and the objects in the image.\\n3. Append all the data and label together.\\n4. Visualize the distribution of labels by plotting a histogram. Explain what you observe?\\n5. Write a generator function getbatch() that will return a batch of x and y as a tuple. \\nThe function must have the signature getbatch(alldata, alllabels, batch_size = 16). \\nIt must yield a tuple with a numpy array of x (the images) and a numpy array of y (the label). \\nThe size of each element in x must be [batchsize, noofchannels, width, height]\\n\\n'"
      ]
     },
     "execution_count": 118,
     "metadata": {},
     "output_type": "execute_result"
    }
   ],
   "source": [
    "\"\"\"\n",
    "1. Download the Python CIFAR-10 dataset from https://www.cs.toronto.edu/~kriz/cifar.html. \n",
    "This data set contains all the CIFAR-10 images stored as a series of pickle files. \n",
    "2. Use the code provided in the link to read the pickle file and extract the data and label. \n",
    "The data contains the images and the labels in the range 0-9. The link explains the relationship\n",
    " between label and the objects in the image.\n",
    "3. Append all the data and label together.\n",
    "4. Visualize the distribution of labels by plotting a histogram. Explain what you observe?\n",
    "5. Write a generator function getbatch() that will return a batch of x and y as a tuple. \n",
    "The function must have the signature getbatch(alldata, alllabels, batch_size = 16). \n",
    "It must yield a tuple with a numpy array of x (the images) and a numpy array of y (the label). \n",
    "The size of each element in x must be [batchsize, noofchannels, width, height]\n",
    "\n",
    "\"\"\""
   ]
  },
  {
   "cell_type": "code",
   "execution_count": 95,
   "metadata": {
    "collapsed": false
   },
   "outputs": [
    {
     "data": {
      "image/png": "[encoded data removed]",
      "text/plain": [
       "<Figure size 432x288 with 1 Axes>"
      ]
     },
     "metadata": {},
     "output_type": "display_data"
    },
    {
     "name": "stdout",
     "output_type": "stream",
     "text": [
      "3125.0\n"
     ]
    }
   ],
   "source": [
    "import pickle\n",
    "import glob\n",
    "import numpy as np\n",
    "import random\n",
    "import matplotlib.pyplot as plt\n",
    "\n",
    "def unpickle(file):\n",
    "    with open(file, 'rb') as fo:\n",
    "        dict = pickle.load(fo, encoding='bytes')\n",
    "    return dict\n",
    "\n",
    "\n",
    "files = glob.glob(\n",
    "    \"/Users/omerorhan/Desktop/UCSC/Deep Learning/cifar-10-batches-py/data_batch*\")\n",
    "\n",
    "def load(path, type):\n",
    "    return unpickle(path).get(type)\n",
    "\n",
    "data = np.concatenate([load(x, b'data') for x in files])\n",
    "labels = np.concatenate([load(x, b'labels') for x in files])\n",
    "\n",
    "plt.hist(labels)\n",
    "plt.show()\n",
    "\n",
    "\n",
    "print(len(labels)/16)"
   ]
  },
  {
   "cell_type": "code",
   "execution_count": 140,
   "metadata": {},
   "outputs": [
    {
     "name": "stdout",
     "output_type": "stream",
     "text": [
      "(44242, 3072)\n"
     ]
    }
   ],
   "source": [
    "\n",
    "def getbatch(xval, yval, batchsize=16):\n",
    "    count = 0\n",
    "    while count < arraylength / batchsize:\n",
    "        randstart = random.randint(0, arraylength - batchsize - 1)\n",
    "        count += 1\n",
    "        yield (xval[batchsize:randstart + batchsize], yval[randstart:randstart + batchsize])\n",
    "\n",
    "for x,y  in getbatch(data, labels):\n",
    "    print(x.shape)\n",
    "    break\n",
    "    "
   ]
  },
  {
   "cell_type": "code",
   "execution_count": 155,
   "metadata": {
    "collapsed": false
   },
   "outputs": [
    {
     "name": "stdout",
     "output_type": "stream",
     "text": [
      "range(0, 50000, 16)\n(16, 3072)\n"
     ]
    }
   ],
   "source": [
    "def batch(xval,yval, n=16):\n",
    "    l = len(xval)\n",
    "    for ndx in range(0, l, n):\n",
    "        yield xval[ndx:min(ndx + n, l)],yval[ndx:min(ndx + n, l)]\n",
    "\n",
    "for x,y in batch(data,labels, 16):\n",
    "    print(x.shape)\n",
    "    break\n",
    "\n"
   ]
  }
 ],
 "metadata": {
  "kernelspec": {
   "display_name": "Python 2",
   "language": "python",
   "name": "python2"
  },
  "language_info": {
   "codemirror_mode": {
    "name": "ipython",
    "version": 2
   },
   "file_extension": ".py",
   "mimetype": "text/x-python",
   "name": "python",
   "nbconvert_exporter": "python",
   "pygments_lexer": "ipython2",
   "version": "2.7.6"
  }
 },
 "nbformat": 4,
 "nbformat_minor": 0
}
